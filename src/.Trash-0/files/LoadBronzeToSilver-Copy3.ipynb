{
 "cells": [
  {
   "cell_type": "code",
   "execution_count": 35,
   "metadata": {},
   "outputs": [],
   "source": [
    "import os\n",
    "import sys\n",
    "from pyspark.sql import SparkSession, DataFrame # type: ignore\n",
    "from pyspark.sql.functions import col, last, row_number, to_timestamp # type: ignore\n",
    "from pyspark.sql.window import Window # type: ignore"
   ]
  },
  {
   "cell_type": "code",
   "execution_count": null,
   "metadata": {},
   "outputs": [],
   "source": []
  },
  {
   "cell_type": "code",
   "execution_count": 36,
   "metadata": {},
   "outputs": [
    {
     "data": {
      "text/plain": [
       "DataFrame[]"
      ]
     },
     "execution_count": 36,
     "metadata": {},
     "output_type": "execute_result"
    }
   ],
   "source": [
    "spark = SparkSession.builder.appName(\"Testing_load_Silver\").getOrCreate()\n",
    "spark.sql(\"CREATE DATABASE IF NOT EXISTS datalake.silver\")"
   ]
  },
  {
   "cell_type": "code",
   "execution_count": 39,
   "metadata": {},
   "outputs": [
    {
     "name": "stdout",
     "output_type": "stream",
     "text": [
      "root\n",
      " |-- Date: string (nullable = true)\n",
      " |-- Price: string (nullable = true)\n",
      " |-- Open: string (nullable = true)\n",
      " |-- High: string (nullable = true)\n",
      " |-- Low: string (nullable = true)\n",
      " |-- Vol: string (nullable = true)\n",
      " |-- Change: string (nullable = true)\n",
      "\n",
      "None\n",
      "+----------+-----+-----+-----+-----+------+------+\n",
      "|      Date|Price| Open| High|  Low|   Vol|Change|\n",
      "+----------+-----+-----+-----+-----+------+------+\n",
      "|12/30/1993|391.9|393.3|393.9|391.0|29.64K| 0.03%|\n",
      "|12/29/1993|391.8|386.6|392.5|384.8|18.71K| 0.85%|\n",
      "|12/28/1993|388.5|389.7|390.0|387.9|39.20K|-0.15%|\n",
      "|12/27/1993|389.1|388.1|389.4|387.7| 8.38K| 0.54%|\n",
      "|12/23/1993|387.0|387.0|387.3|385.6| 6.91K|-0.05%|\n",
      "+----------+-----+-----+-----+-----+------+------+\n",
      "only showing top 5 rows\n",
      "\n"
     ]
    }
   ],
   "source": [
    "bronze_table_gold = spark.table(\"datalake.bronze.gold\")\n",
    "bronze_table_gold.createOrReplaceTempView(\"bronze_table_gold\")\n",
    "\n",
    "print(bronze_table_gold.printSchema())\n",
    "bronze_table_gold.show(5)"
   ]
  },
  {
   "cell_type": "code",
   "execution_count": null,
   "metadata": {},
   "outputs": [
    {
     "ename": "TypeError",
     "evalue": "cast() takes 2 positional arguments but 3 were given",
     "output_type": "error",
     "traceback": [
      "\u001b[0;31m---------------------------------------------------------------------------\u001b[0m",
      "\u001b[0;31mTypeError\u001b[0m                                 Traceback (most recent call last)",
      "Cell \u001b[0;32mIn[45], line 2\u001b[0m\n\u001b[1;32m      1\u001b[0m df_temp \u001b[38;5;241m=\u001b[39m bronze_table_gold\u001b[38;5;241m.\u001b[39mselect(\u001b[38;5;124m\"\u001b[39m\u001b[38;5;124mDate\u001b[39m\u001b[38;5;124m\"\u001b[39m, \u001b[38;5;124m\"\u001b[39m\u001b[38;5;124mPrice\u001b[39m\u001b[38;5;124m\"\u001b[39m, \u001b[38;5;124m\"\u001b[39m\u001b[38;5;124mOpen\u001b[39m\u001b[38;5;124m\"\u001b[39m, \u001b[38;5;124m\"\u001b[39m\u001b[38;5;124mHigh\u001b[39m\u001b[38;5;124m\"\u001b[39m,  \u001b[38;5;124m\"\u001b[39m\u001b[38;5;124mLow\u001b[39m\u001b[38;5;124m\"\u001b[39m)\n\u001b[0;32m----> 2\u001b[0m df_temp \u001b[38;5;241m=\u001b[39m df_temp\u001b[38;5;241m.\u001b[39mwithColumn(\u001b[38;5;124m\"\u001b[39m\u001b[38;5;124mDate\u001b[39m\u001b[38;5;124m\"\u001b[39m, \u001b[43mcol\u001b[49m\u001b[43m(\u001b[49m\u001b[38;5;124;43m\"\u001b[39;49m\u001b[38;5;124;43mDate\u001b[39;49m\u001b[38;5;124;43m\"\u001b[39;49m\u001b[43m)\u001b[49m\u001b[38;5;241;43m.\u001b[39;49m\u001b[43mcast\u001b[49m\u001b[43m(\u001b[49m\u001b[38;5;124;43m\"\u001b[39;49m\u001b[38;5;124;43mdate\u001b[39;49m\u001b[38;5;124;43m\"\u001b[39;49m\u001b[43m,\u001b[49m\u001b[43m \u001b[49m\u001b[38;5;124;43m\"\u001b[39;49m\u001b[38;5;124;43mMM/dd/yyyy\u001b[39;49m\u001b[38;5;124;43m\"\u001b[39;49m\u001b[43m)\u001b[49m)\n\u001b[1;32m      3\u001b[0m df_temp \u001b[38;5;241m=\u001b[39m df_temp\u001b[38;5;241m.\u001b[39mwithColumn(\u001b[38;5;124m\"\u001b[39m\u001b[38;5;124mPrice\u001b[39m\u001b[38;5;124m\"\u001b[39m, col(\u001b[38;5;124m\"\u001b[39m\u001b[38;5;124mPrice\u001b[39m\u001b[38;5;124m\"\u001b[39m)\u001b[38;5;241m.\u001b[39mcast(\u001b[38;5;124m\"\u001b[39m\u001b[38;5;124mfloat\u001b[39m\u001b[38;5;124m\"\u001b[39m))\n\u001b[1;32m      4\u001b[0m df_temp \u001b[38;5;241m=\u001b[39m df_temp\u001b[38;5;241m.\u001b[39mwithColumn(\u001b[38;5;124m\"\u001b[39m\u001b[38;5;124mOpen\u001b[39m\u001b[38;5;124m\"\u001b[39m, col(\u001b[38;5;124m\"\u001b[39m\u001b[38;5;124mOpen\u001b[39m\u001b[38;5;124m\"\u001b[39m)\u001b[38;5;241m.\u001b[39mcast(\u001b[38;5;124m\"\u001b[39m\u001b[38;5;124mfloat\u001b[39m\u001b[38;5;124m\"\u001b[39m))\n",
      "\u001b[0;31mTypeError\u001b[0m: cast() takes 2 positional arguments but 3 were given"
     ]
    }
   ],
   "source": [
    "df_temp = bronze_table_gold.select(\"Date\", \"Price\", \"Open\", \"High\",  \"Low\")\n",
    "df_temp = df_temp.withColumn(\"Date\", to_timestamp(col(\"Date\"), \"MM/dd/yyyy\").cast(\"date\"))\n",
    "df_temp = df_temp.withColumn(\"Price\", col(\"Price\").cast(\"float\"))\n",
    "df_temp = df_temp.withColumn(\"Open\", col(\"Open\").cast(\"float\"))\n",
    "df_temp = df_temp.withColumn(\"High\", col(\"High\").cast(\"float\"))\n",
    "df_temp = df_temp.withColumn(\"Low\", col(\"Low\").cast(\"float\"))\n",
    "\n",
    "print(df_temp.printSchema())\n",
    "df_temp.show(5)"
   ]
  },
  {
   "cell_type": "code",
   "execution_count": 43,
   "metadata": {},
   "outputs": [
    {
     "name": "stdout",
     "output_type": "stream",
     "text": [
      "+----------+-----+-----+-----+-----+\n",
      "|      Date|Price| Open| High|  Low|\n",
      "+----------+-----+-----+-----+-----+\n",
      "|12/30/1993|391.9|393.3|393.9|391.0|\n",
      "|12/29/1993|391.8|386.6|392.5|384.8|\n",
      "|12/28/1993|388.5|389.7|390.0|387.9|\n",
      "|12/27/1993|389.1|388.1|389.4|387.7|\n",
      "|12/23/1993|387.0|387.0|387.3|385.6|\n",
      "+----------+-----+-----+-----+-----+\n",
      "only showing top 5 rows\n",
      "\n"
     ]
    }
   ],
   "source": [
    "df_temp = bronze_table_gold.select(\"Date\", \"Price\", \"Open\", \"High\",  \"Low\")\n",
    "df_temp.show(5)"
   ]
  },
  {
   "cell_type": "code",
   "execution_count": 47,
   "metadata": {},
   "outputs": [
    {
     "name": "stdout",
     "output_type": "stream",
     "text": [
      "root\n",
      " |-- Date: date (nullable = true)\n",
      " |-- Price: string (nullable = true)\n",
      " |-- Open: string (nullable = true)\n",
      " |-- High: string (nullable = true)\n",
      " |-- Low: string (nullable = true)\n",
      "\n",
      "None\n",
      "+----------+-----+-----+-----+-----+\n",
      "|      Date|Price| Open| High|  Low|\n",
      "+----------+-----+-----+-----+-----+\n",
      "|1993-12-30|391.9|393.3|393.9|391.0|\n",
      "|1993-12-29|391.8|386.6|392.5|384.8|\n",
      "|1993-12-28|388.5|389.7|390.0|387.9|\n",
      "|1993-12-27|389.1|388.1|389.4|387.7|\n",
      "|1993-12-23|387.0|387.0|387.3|385.6|\n",
      "+----------+-----+-----+-----+-----+\n",
      "only showing top 5 rows\n",
      "\n"
     ]
    }
   ],
   "source": [
    "df_temp = df_temp.withColumn(\"Date\", to_timestamp(\"Date\", \"MM/dd/yyyy\").cast(\"date\"))\n",
    "\n",
    "print(df_temp.printSchema())\n",
    "df_temp.show(5)"
   ]
  },
  {
   "cell_type": "code",
   "execution_count": 18,
   "metadata": {},
   "outputs": [
    {
     "name": "stdout",
     "output_type": "stream",
     "text": [
      "+---+----+-----+-----+-----+-----+\n",
      "| ID|Date|Price| Open| High|  Low|\n",
      "+---+----+-----+-----+-----+-----+\n",
      "|  1|NULL|332.5|333.0|333.4|332.3|\n",
      "|  2|NULL|329.6|329.1|329.7|328.3|\n",
      "|  3|NULL|332.8|334.1|334.3|332.0|\n",
      "|  4|NULL|445.3|446.8|449.0|443.6|\n",
      "|  5|NULL|449.2|448.5|450.5|448.0|\n",
      "+---+----+-----+-----+-----+-----+\n",
      "only showing top 5 rows\n",
      "\n"
     ]
    }
   ],
   "source": [
    "silver_tbl_gold = spark.table(\"datalake.silver.gold\")\n",
    "silver_tbl_gold.createOrReplaceTempView(\"silver_tbl_gold\")\n",
    "\n",
    "silver_tbl_gold.show(5)"
   ]
  },
  {
   "cell_type": "code",
   "execution_count": 19,
   "metadata": {},
   "outputs": [
    {
     "name": "stdout",
     "output_type": "stream",
     "text": [
      "root\n",
      " |-- ID: integer (nullable = true)\n",
      " |-- Date: timestamp (nullable = true)\n",
      " |-- Price: string (nullable = true)\n",
      " |-- Open: string (nullable = true)\n",
      " |-- High: string (nullable = true)\n",
      " |-- Low: string (nullable = true)\n",
      "\n"
     ]
    }
   ],
   "source": [
    "silver_tbl_gold.printSchema()"
   ]
  },
  {
   "cell_type": "code",
   "execution_count": null,
   "metadata": {},
   "outputs": [],
   "source": []
  },
  {
   "cell_type": "code",
   "execution_count": 1,
   "metadata": {},
   "outputs": [],
   "source": [
    "spark.stop()"
   ]
  }
 ],
 "metadata": {
  "kernelspec": {
   "display_name": "Python 3 (ipykernel)",
   "language": "python",
   "name": "python3"
  },
  "language_info": {
   "codemirror_mode": {
    "name": "ipython",
    "version": 3
   },
   "file_extension": ".py",
   "mimetype": "text/x-python",
   "name": "python",
   "nbconvert_exporter": "python",
   "pygments_lexer": "ipython3",
   "version": "3.9.22"
  }
 },
 "nbformat": 4,
 "nbformat_minor": 4
}
