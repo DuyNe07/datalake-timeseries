{
 "cells": [
  {
   "cell_type": "markdown",
   "id": "98be7ba0-8c70-4e1b-b5b9-58cd55d29ac0",
   "metadata": {},
   "source": [
    "## Import Libraries"
   ]
  },
  {
   "cell_type": "code",
   "execution_count": 19,
   "id": "ce666710-7ae6-464c-aecc-213876f2bb3c",
   "metadata": {},
   "outputs": [],
   "source": [
    "import sys\n",
    "import os\n",
    "import torch\n",
    "import numpy as np\n",
    "import pandas as pd\n",
    "from sklearn.preprocessing import MinMaxScaler"
   ]
  },
  {
   "cell_type": "markdown",
   "id": "2ce0ca94-288e-4234-9c24-9df9b8eef748",
   "metadata": {},
   "source": [
    "## Configurations"
   ]
  },
  {
   "cell_type": "code",
   "execution_count": 20,
   "id": "023775cc-ee83-42c5-a002-4554ca0a60a4",
   "metadata": {},
   "outputs": [],
   "source": [
    "SEQ_LEN = 7\n",
    "INPUT_DIM = 6\n",
    "HIDDEN_DIM = 64\n",
    "NUM_STATES = 1\n",
    "NUM_VARS = 6\n",
    "MODEL_PATH = '/src/airflow/model/srvar_model_indices.pth'\n",
    "CSV_PATH = '/src/data/future/SrVAR/indices_future_01_06_2025.csv'\n",
    "MODEL_CODE_PATH = '/src/airflow'"
   ]
  },
  {
   "cell_type": "markdown",
   "id": "ea3a0204-3acd-4f49-a5b4-54c33329d1ba",
   "metadata": {},
   "source": [
    "## Import model"
   ]
  },
  {
   "cell_type": "code",
   "execution_count": 21,
   "id": "20aa2f41-12c4-409a-88d9-2d486d6e29da",
   "metadata": {},
   "outputs": [],
   "source": [
    "sys.path.append(os.path.abspath(MODEL_CODE_PATH))\n",
    "from srvar_model import SrVAR"
   ]
  },
  {
   "cell_type": "markdown",
   "id": "a4e6e56f-c724-4e5c-bf0a-53ab7a4084e5",
   "metadata": {},
   "source": [
    "## Load model"
   ]
  },
  {
   "cell_type": "code",
   "execution_count": 22,
   "id": "52cb14f3-8dd7-4228-ac9c-1e34d0c5a211",
   "metadata": {},
   "outputs": [
    {
     "data": {
      "text/plain": [
       "SrVAR(\n",
       "  (encoder): LSTMEncoder(\n",
       "    (lstm): LSTM(6, 64, batch_first=True)\n",
       "  )\n",
       "  (state_regularized_unit): StateRegularizedUnit()\n",
       "  (graph_generation): GraphGeneration(\n",
       "    (g_a): Linear(in_features=64, out_features=36, bias=True)\n",
       "    (g_d): Linear(in_features=64, out_features=6, bias=True)\n",
       "  )\n",
       "  (dynamic_var): DynamicVAR()\n",
       ")"
      ]
     },
     "execution_count": 22,
     "metadata": {},
     "output_type": "execute_result"
    }
   ],
   "source": [
    "model = SrVAR(INPUT_DIM, HIDDEN_DIM, NUM_STATES, NUM_VARS)\n",
    "model.load_state_dict(torch.load(MODEL_PATH, map_location='cpu'))\n",
    "model.eval()"
   ]
  },
  {
   "cell_type": "markdown",
   "id": "1808c7c4-5887-4620-a54d-a709b5062181",
   "metadata": {},
   "source": [
    "## Load Data"
   ]
  },
  {
   "cell_type": "code",
   "execution_count": 23,
   "id": "cc004f01-2eb5-460c-8e84-aa83d4f008e0",
   "metadata": {},
   "outputs": [],
   "source": [
    "df = pd.read_csv(CSV_PATH)\n",
    "df = df.sort_values('date')\n",
    "features = df.drop(columns='date').columns\n",
    "df_features = df[features]"
   ]
  },
  {
   "cell_type": "markdown",
   "id": "b12fd7e5-7c27-441a-a3a1-1f1f911317ad",
   "metadata": {},
   "source": [
    "## Scaling & Differencing data"
   ]
  },
  {
   "cell_type": "code",
   "execution_count": 24,
   "id": "33627aa5-40d3-41b9-9656-a50ddaad97d1",
   "metadata": {},
   "outputs": [],
   "source": [
    "scalers = {}\n",
    "scaled_df = pd.DataFrame()\n",
    "for col in features:\n",
    "    scaler = MinMaxScaler(feature_range=(-1, 1))\n",
    "    scaled_df[col] = scaler.fit_transform(df[[col]]).flatten()\n",
    "    scalers[col] = scaler"
   ]
  },
  {
   "cell_type": "code",
   "execution_count": 25,
   "id": "d1cd6c5a-b6bb-4840-813b-c5527c90c63e",
   "metadata": {},
   "outputs": [],
   "source": [
    "diff_df = scaled_df.diff().dropna().reset_index(drop=True)"
   ]
  },
  {
   "cell_type": "code",
   "execution_count": 27,
   "id": "80c7adf4-1378-49e8-9025-9863b4cf4c4e",
   "metadata": {},
   "outputs": [],
   "source": [
    "input_seq = diff_df.iloc[-SEQ_LEN:].values\n",
    "input_tensor = torch.tensor(input_seq, dtype=torch.float32).unsqueeze(0)"
   ]
  },
  {
   "cell_type": "markdown",
   "id": "7bb62878-e00d-430b-9d04-e00746cd0e10",
   "metadata": {},
   "source": [
    "## Predict"
   ]
  },
  {
   "cell_type": "code",
   "execution_count": 28,
   "id": "727a5389-cf46-4151-9b61-afb4186b55ca",
   "metadata": {},
   "outputs": [],
   "source": [
    "with torch.no_grad():\n",
    "    x_hat, alpha, entropy_reg, acyclic_penalty = model(input_tensor)"
   ]
  },
  {
   "cell_type": "markdown",
   "id": "d6e65c23-5890-4442-8be2-8c1e72935901",
   "metadata": {},
   "source": [
    "### Undo differencing and scaling data"
   ]
  },
  {
   "cell_type": "code",
   "execution_count": 29,
   "id": "19b1e910-417e-4f8c-9da5-e14d4d84c555",
   "metadata": {},
   "outputs": [],
   "source": [
    "last_scaled = scaled_df.iloc[-1].values\n",
    "undiff_scaled = x_hat.squeeze(0).numpy() + last_scaled"
   ]
  },
  {
   "cell_type": "code",
   "execution_count": 30,
   "id": "8b4646d9-1a55-461a-a9cd-1b05415ffb43",
   "metadata": {},
   "outputs": [],
   "source": [
    "unscaled = []\n",
    "for i, col in enumerate(features):\n",
    "    val = scalers[col].inverse_transform([[undiff_scaled[i]]])[0, 0]\n",
    "    unscaled.append(val)"
   ]
  },
  {
   "cell_type": "markdown",
   "id": "be1f5549-b9bf-40ec-a18e-a95ff338ef1e",
   "metadata": {},
   "source": [
    "### Output"
   ]
  },
  {
   "cell_type": "code",
   "execution_count": 35,
   "id": "84f2b647-2b92-4267-a200-5356c9522e3f",
   "metadata": {},
   "outputs": [
    {
     "name": "stdout",
     "output_type": "stream",
     "text": [
      "Predicted next real-world values (real):\n",
      "gold: 3312.37\n",
      "russell2000: 2065.78\n",
      "dow_jones: 42268.27\n",
      "msci_world: 3863.29\n",
      "nasdaq100: 19111.76\n",
      "s_p500: 5910.89\n"
     ]
    }
   ],
   "source": [
    "print(\"Predicted next real-world values (real):\")\n",
    "for name, val in zip(features, unscaled):\n",
    "    print(f\"{name}: {val:.2f}\")"
   ]
  }
 ],
 "metadata": {
  "kernelspec": {
   "display_name": "Python 3 (ipykernel)",
   "language": "python",
   "name": "python3"
  },
  "language_info": {
   "codemirror_mode": {
    "name": "ipython",
    "version": 3
   },
   "file_extension": ".py",
   "mimetype": "text/x-python",
   "name": "python",
   "nbconvert_exporter": "python",
   "pygments_lexer": "ipython3",
   "version": "3.9.22"
  }
 },
 "nbformat": 4,
 "nbformat_minor": 5
}
