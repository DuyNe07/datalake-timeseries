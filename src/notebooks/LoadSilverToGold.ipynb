{
 "cells": [
  {
   "cell_type": "code",
   "execution_count": 1,
   "id": "9f1fdcda",
   "metadata": {},
   "outputs": [],
   "source": [
    "import os\n",
    "import re\n",
    "import logging\n",
    "from functools import reduce\n",
    "from pyspark.sql import SparkSession, DataFrame\n",
    "from pyspark.sql.functions import col, regexp_replace, year, avg"
   ]
  },
  {
   "cell_type": "code",
   "execution_count": 6,
   "id": "fc32fadb",
   "metadata": {},
   "outputs": [],
   "source": [
    "def read_from_iceberg(spark: SparkSession, table_name: str) -> DataFrame:\n",
    "  return spark.read.format(\"iceberg\").table(table_name)"
   ]
  },
  {
   "cell_type": "code",
   "execution_count": 3,
   "id": "e558858b",
   "metadata": {},
   "outputs": [],
   "source": [
    "def process_and_group(df: DataFrame) -> DataFrame:\n",
    "  # Gom nhóm theo năm và tính trung bình cho các cột còn lại\n",
    "  grouped_df = df.groupBy(year(\"date\").alias(\"year\")).agg(*[\n",
    "      avg(col).alias(f\"{col}_avg\") for col in df.columns if col != \"date\"\n",
    "  ])\n",
    "    \n",
    "  return grouped_df"
   ]
  },
  {
   "cell_type": "code",
   "execution_count": 4,
   "id": "54ca1816",
   "metadata": {},
   "outputs": [],
   "source": [
    "def write_to_iceberg(df: DataFrame, table_name: str):\n",
    "  df.write.format(\"iceberg\").mode(\"overwrite\").saveAsTable(table_name)"
   ]
  },
  {
   "cell_type": "code",
   "execution_count": 10,
   "id": "5d1ff6af",
   "metadata": {},
   "outputs": [
    {
     "data": {
      "text/plain": [
       "DataFrame[]"
      ]
     },
     "execution_count": 10,
     "metadata": {},
     "output_type": "execute_result"
    }
   ],
   "source": [
    "spark = SparkSession.builder.appName(\"Silver_to_Gold\").getOrCreate()\n",
    "spark.sql(\"CREATE NAMESPACE IF NOT EXISTS datalake.gold\")"
   ]
  },
  {
   "cell_type": "code",
   "execution_count": 12,
   "id": "bc90a1e6",
   "metadata": {},
   "outputs": [
    {
     "name": "stdout",
     "output_type": "stream",
     "text": [
      "+---+----+-----+-----+-----+-----+\n",
      "| ID|Date|Price| Open| High|  Low|\n",
      "+---+----+-----+-----+-----+-----+\n",
      "|  1|NULL|332.5|333.0|333.4|332.3|\n",
      "|  2|NULL|329.6|329.1|329.7|328.3|\n",
      "|  3|NULL|332.8|334.1|334.3|332.0|\n",
      "|  4|NULL|445.3|446.8|449.0|443.6|\n",
      "|  5|NULL|449.2|448.5|450.5|448.0|\n",
      "|  6|NULL|413.3|415.0|416.2|412.8|\n",
      "|  7|NULL|396.3|399.7|400.8|394.6|\n",
      "|  8|NULL|405.5|401.0|407.3|400.0|\n",
      "|  9|NULL|336.1|333.5|336.5|333.0|\n",
      "| 10|NULL|362.0|366.0|367.5|360.5|\n",
      "+---+----+-----+-----+-----+-----+\n",
      "only showing top 10 rows\n",
      "\n"
     ]
    }
   ],
   "source": [
    "df_gold = spark.read.format(\"iceberg\").table(\"datalake.silver.gold\")\n",
    "df_gold.show(10)"
   ]
  },
  {
   "cell_type": "code",
   "execution_count": null,
   "id": "5388c945",
   "metadata": {},
   "outputs": [],
   "source": [
    "df_vnd_use = spark.read.format(\"iceberg\").table(\"datalake.silver.vnd_usd\")"
   ]
  },
  {
   "cell_type": "code",
   "execution_count": null,
   "id": "13c70de4",
   "metadata": {},
   "outputs": [],
   "source": [
    "df_gold_processed = process_and_group(df_gold)\n",
    "df_vnd_usd_processed = process_and_group(df_vnd_use)"
   ]
  },
  {
   "cell_type": "code",
   "execution_count": null,
   "id": "a5dbea2b",
   "metadata": {},
   "outputs": [],
   "source": [
    "write_to_iceberg(df_gold_processed, \"datalake.gold.gold\")\n",
    "write_to_iceberg(df_vnd_usd_processed, \"datalake.gold.vnd_usd\")"
   ]
  },
  {
   "cell_type": "code",
   "execution_count": null,
   "id": "3bc2cba8",
   "metadata": {},
   "outputs": [],
   "source": [
    "spark.stop()"
   ]
  }
 ],
 "metadata": {
  "kernelspec": {
   "display_name": "Python 3 (ipykernel)",
   "language": "python",
   "name": "python3"
  },
  "language_info": {
   "codemirror_mode": {
    "name": "ipython",
    "version": 3
   },
   "file_extension": ".py",
   "mimetype": "text/x-python",
   "name": "python",
   "nbconvert_exporter": "python",
   "pygments_lexer": "ipython3",
   "version": "3.9.21"
  }
 },
 "nbformat": 4,
 "nbformat_minor": 5
}
