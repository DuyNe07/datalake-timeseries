{
 "cells": [
  {
   "cell_type": "markdown",
   "metadata": {},
   "source": [
    "# Loading Data from Silver to Gold Layer\n",
    "\n",
    "This notebook reads data from silver tables (gold, oil, us_dollar, usd_vnd), combines them based on date, and creates a gold table."
   ]
  },
  {
   "cell_type": "code",
   "execution_count": 3,
   "metadata": {},
   "outputs": [],
   "source": [
    "from datetime import datetime\n",
    "from typing import List, Optional, Tuple\n",
    "\n",
    "from pyspark.sql import SparkSession, DataFrame # type: ignore\n",
    "from pyspark.sql.functions import col, to_timestamp, year, month # type: ignore\n",
    "from functools import reduce\n",
    "\n",
    "SOURCE_CATALOG = \"datalake\"\n",
    "SOURCE_CATALOG = f\"{SOURCE_CATALOG}.gold\"\n",
    "SOURCE_TABLE = f\"{SOURCE_CATALOG}.indices\"\n",
    "SOURCE_TABLE = f\"{SOURCE_CATALOG}.indices\"\n",
    "DATE_COLUMN = \"date\"\n",
    "PRICE_COLUMN = \"price\" "
   ]
  },
  {
   "cell_type": "code",
   "execution_count": 5,
   "metadata": {},
   "outputs": [
    {
     "data": {
      "text/plain": [
       "DataFrame[]"
      ]
     },
     "execution_count": 5,
     "metadata": {},
     "output_type": "execute_result"
    }
   ],
   "source": [
    "spark = (\n",
    "        SparkSession.builder.appName(\"Test_read\")\n",
    "        .enableHiveSupport()\n",
    "        .config(\"spark.sql.parquet.datetimeRebaseModeInWrite\", \"CORRECTED\")\n",
    "        .config(\"spark.sql.avro.datetimeRebaseModeInWrite\", \"CORRECTED\")\n",
    "        .getOrCreate()\n",
    "    )\n",
    "spark.sql(f\"CREATE NAMESPACE IF NOT EXISTS {SOURCE_TABLE}\")"
   ]
  },
  {
   "cell_type": "markdown",
   "metadata": {},
   "source": [
    "## Read Silver Tables\n",
    "\n",
    "Read the required silver tables: gold, oil, us_dollar, usd_vnd"
   ]
  },
  {
   "cell_type": "code",
   "execution_count": 6,
   "metadata": {},
   "outputs": [],
   "source": [
    "indices_table = spark.table(\"datalake.gold.indices_predict\")\n",
    "indices_table = indices_table.orderBy(\"date\")"
   ]
  },
  {
   "cell_type": "code",
   "execution_count": 7,
   "metadata": {},
   "outputs": [
    {
     "name": "stderr",
     "output_type": "stream",
     "text": [
      "SLF4J: Failed to load class \"org.slf4j.impl.StaticLoggerBinder\".\n",
      "SLF4J: Defaulting to no-operation (NOP) logger implementation\n",
      "SLF4J: See http://www.slf4j.org/codes.html#StaticLoggerBinder for further details.\n",
      "                                                                                "
     ]
    },
    {
     "name": "stdout",
     "output_type": "stream",
     "text": [
      "+-------------------+-----------+---------+----------+---------+------+-----+----+-----+------------------------+----------------------+-----------------------+----------------------+-------------------+-----------------+------------------------+----------------------+-----------------------+----------------------+-------------------+-----------------+-------------------------+-----------------------+------------------------+-----------------------+--------------------+------------------+-------------------------+-----------------------+------------------------+-----------------------+--------------------+------------------+\n",
      "|               date|russell2000|dow_jones|msci_world|nasdaq100|s_p500| gold|year|month|russell2000_SrVAR_future|dow_jones_SrVAR_future|msci_world_SrVAR_future|nasdaq100_SrVAR_future|s_p500_SrVAR_future|gold_SrVAR_future|russell2000_VARNN_future|dow_jones_VARNN_future|msci_world_VARNN_future|nasdaq100_VARNN_future|s_p500_VARNN_future|gold_VARNN_future|russell2000_SrVAR_predict|dow_jones_SrVAR_predict|msci_world_SrVAR_predict|nasdaq100_SrVAR_predict|s_p500_SrVAR_predict|gold_SrVAR_predict|russell2000_VARNN_predict|dow_jones_VARNN_predict|msci_world_VARNN_predict|nasdaq100_VARNN_predict|s_p500_VARNN_predict|gold_VARNN_predict|\n",
      "+-------------------+-----------+---------+----------+---------+------+-----+----+-----+------------------------+----------------------+-----------------------+----------------------+-------------------+-----------------+------------------------+----------------------+-----------------------+----------------------+-------------------+-----------------+-------------------------+-----------------------+------------------------+-----------------------+--------------------+------------------+-------------------------+-----------------------+------------------------+-----------------------+--------------------+------------------+\n",
      "|1995-01-05 00:00:00|     247.46|  3850.92|     614.6|   398.02| 460.3|376.6|1995|    1|                    NULL|                  NULL|                   NULL|                  NULL|               NULL|             NULL|                    NULL|                  NULL|                   NULL|                  NULL|               NULL|             NULL|                     NULL|                   NULL|                    NULL|                   NULL|                NULL|              NULL|                     NULL|                   NULL|                    NULL|                   NULL|                NULL|              NULL|\n",
      "|1995-01-06 00:00:00|     248.08|  3867.41|     613.7|   401.59| 460.7|372.2|1995|    1|                    NULL|                  NULL|                   NULL|                  NULL|               NULL|             NULL|                    NULL|                  NULL|                   NULL|                  NULL|               NULL|             NULL|                     NULL|                   NULL|                    NULL|                   NULL|                NULL|              NULL|                     NULL|                   NULL|                    NULL|                   NULL|                NULL|              NULL|\n",
      "|1995-01-07 00:00:00|     248.08|  3867.41|     613.7|   401.59| 460.7|372.2|1995|    1|                    NULL|                  NULL|                   NULL|                  NULL|               NULL|             NULL|                    NULL|                  NULL|                   NULL|                  NULL|               NULL|             NULL|                     NULL|                   NULL|                    NULL|                   NULL|                NULL|              NULL|                     NULL|                   NULL|                    NULL|                   NULL|                NULL|              NULL|\n",
      "|1995-01-08 00:00:00|     248.08|  3867.41|     613.7|   401.59| 460.7|372.2|1995|    1|                    NULL|                  NULL|                   NULL|                  NULL|               NULL|             NULL|                    NULL|                  NULL|                   NULL|                  NULL|               NULL|             NULL|                     NULL|                   NULL|                    NULL|                   NULL|                NULL|              NULL|                     NULL|                   NULL|                    NULL|                   NULL|                NULL|              NULL|\n",
      "|1995-01-09 00:00:00|     248.37|  3861.35|     611.7|   403.53| 460.8|374.0|1995|    1|                    NULL|                  NULL|                   NULL|                  NULL|               NULL|             NULL|                    NULL|                  NULL|                   NULL|                  NULL|               NULL|             NULL|                     NULL|                   NULL|                    NULL|                   NULL|                NULL|              NULL|                     NULL|                   NULL|                    NULL|                   NULL|                NULL|              NULL|\n",
      "+-------------------+-----------+---------+----------+---------+------+-----+----+-----+------------------------+----------------------+-----------------------+----------------------+-------------------+-----------------+------------------------+----------------------+-----------------------+----------------------+-------------------+-----------------+-------------------------+-----------------------+------------------------+-----------------------+--------------------+------------------+-------------------------+-----------------------+------------------------+-----------------------+--------------------+------------------+\n",
      "only showing top 5 rows\n",
      "\n"
     ]
    }
   ],
   "source": [
    "indices_table.show(5)"
   ]
  },
  {
   "cell_type": "code",
   "execution_count": 26,
   "metadata": {},
   "outputs": [
    {
     "name": "stdout",
     "output_type": "stream",
     "text": [
      "Tables loaded successfully\n"
     ]
    }
   ],
   "source": [
    "# Read silver tables\n",
    "try:\n",
    "    silver_gold = spark.table(\"datalake.silver.gold\")\n",
    "    silver_dow_jones = spark.table(\"datalake.silver.dow_jones\")\n",
    "    silver_msci_world = spark.table(\"datalake.silver.msci_world\")\n",
    "    silver_nasdaq100 = spark.table(\"datalake.silver.nasdaq100\")\n",
    "    \n",
    "    print(\"Tables loaded successfully\")\n",
    "except Exception as e:\n",
    "    print(f\"Error loading silver tables: {e}\")"
   ]
  },
  {
   "cell_type": "code",
   "execution_count": 29,
   "metadata": {},
   "outputs": [
    {
     "name": "stdout",
     "output_type": "stream",
     "text": [
      "gold schema:\n",
      "root\n",
      " |-- date: date (nullable = true)\n",
      " |-- price: double (nullable = true)\n",
      " |-- open: double (nullable = true)\n",
      " |-- high: double (nullable = true)\n",
      " |-- low: double (nullable = true)\n",
      " |-- volume: double (nullable = true)\n",
      " |-- change: double (nullable = true)\n",
      " |-- source_file: string (nullable = true)\n",
      " |-- year: double (nullable = true)\n",
      " |-- month: double (nullable = true)\n",
      "\n",
      "+----------+------------------+------------------+------------------+------------------+------+--------------------+--------------------+------+-----+\n",
      "|      date|             price|              open|              high|               low|volume|              change|         source_file|  year|month|\n",
      "+----------+------------------+------------------+------------------+------------------+------+--------------------+--------------------+------+-----+\n",
      "|2000-05-01|274.79998779296875|274.79998779296875| 276.1000061035156| 273.6000061035156|   NaN| 0.03999999910593033|file:///src/data/...|2000.0|  5.0|\n",
      "|2000-05-02|             277.0| 275.1000061035156| 277.8999938964844|274.70001220703125|   NaN|   0.800000011920929|file:///src/data/...|2000.0|  5.0|\n",
      "|2000-05-03| 279.1000061035156|277.20001220703125| 279.3999938964844| 276.6000061035156|   NaN|  0.7599999904632568|file:///src/data/...|2000.0|  5.0|\n",
      "|2000-05-04|281.20001220703125|             280.0|             284.0| 278.1000061035156|   NaN|                0.75|file:///src/data/...|2000.0|  5.0|\n",
      "|2000-05-05| 280.1000061035156|             282.0|283.79998779296875|             278.5|   NaN|-0.38999998569488525|file:///src/data/...|2000.0|  5.0|\n",
      "|2000-05-06| 280.1000061035156|             282.0|283.79998779296875|             278.5|   NaN|-0.38999998569488525|file:///src/data/...|2000.0|  5.0|\n",
      "|2000-05-07| 280.1000061035156|             282.0|283.79998779296875|             278.5|   NaN|-0.38999998569488525|file:///src/data/...|2000.0|  5.0|\n",
      "|2000-05-08| 277.6000061035156|279.79998779296875|279.79998779296875|277.29998779296875|   NaN| -0.8899999856948853|file:///src/data/...|2000.0|  5.0|\n",
      "|2000-05-09|278.20001220703125|             278.0| 278.8999938964844|276.70001220703125|   NaN|  0.2199999988079071|file:///src/data/...|2000.0|  5.0|\n",
      "|2000-05-10|278.70001220703125| 278.3999938964844|             280.0| 277.8999938964844|   NaN| 0.18000000715255737|file:///src/data/...|2000.0|  5.0|\n",
      "+----------+------------------+------------------+------------------+------------------+------+--------------------+--------------------+------+-----+\n",
      "only showing top 10 rows\n",
      "\n",
      "dow_jones schema:\n",
      "root\n",
      " |-- date: date (nullable = true)\n",
      " |-- id: double (nullable = true)\n",
      " |-- open: double (nullable = true)\n",
      " |-- high: double (nullable = true)\n",
      " |-- low: double (nullable = true)\n",
      " |-- price: double (nullable = true)\n",
      " |-- adj: double (nullable = true)\n",
      " |-- volume: double (nullable = true)\n",
      " |-- source_file: string (nullable = true)\n",
      " |-- year: double (nullable = true)\n",
      " |-- month: double (nullable = true)\n",
      "\n",
      "+----------+------+----------------+----------------+----------------+----------------+--------+--------+--------------------+------+-----+\n",
      "|      date|    id|            open|            high|             low|           price|     adj|  volume|         source_file|  year|month|\n",
      "+----------+------+----------------+----------------+----------------+----------------+--------+--------+--------------------+------+-----+\n",
      "|2000-05-01|6291.0| 10749.419921875| 10926.259765625|10724.2197265625|10811.7802734375|10811.78|1.7402E8|file:///src/data/...|2000.0|  5.0|\n",
      "|2000-05-02|6290.0| 10805.580078125|         10824.5|  10710.01953125|10731.1201171875|10731.12|2.0861E8|file:///src/data/...|2000.0|  5.0|\n",
      "|2000-05-03|6289.0|10732.2099609375|10732.2099609375|  10400.08984375|10480.1298828125|10480.13|2.0022E8|file:///src/data/...|2000.0|  5.0|\n",
      "|2000-05-04|6288.0|10478.8896484375| 10523.099609375|10407.5302734375| 10412.490234375|10412.49|1.6917E8|file:///src/data/...|2000.0|  5.0|\n",
      "|2000-05-05|6287.0|10409.7001953125| 10585.919921875|10375.8095703125|10577.8603515625|10577.86| 1.383E8|file:///src/data/...|2000.0|  5.0|\n",
      "|2000-05-06|6287.0|10409.7001953125| 10585.919921875|10375.8095703125|10577.8603515625|10577.86| 1.383E8|file:///src/data/...|2000.0|  5.0|\n",
      "|2000-05-07|6287.0|10409.7001953125| 10585.919921875|10375.8095703125|10577.8603515625|10577.86| 1.383E8|file:///src/data/...|2000.0|  5.0|\n",
      "|2000-05-08|6286.0|10571.3095703125| 10627.849609375|   10522.0703125|10603.6298828125|10603.63|1.4418E8|file:///src/data/...|2000.0|  5.0|\n",
      "|2000-05-09|6285.0|10607.5400390625| 10684.849609375|        10514.25|        10536.75|10536.75|1.6632E8|file:///src/data/...|2000.0|  5.0|\n",
      "|2000-05-10|6284.0|  10533.08984375|  10533.08984375| 10292.099609375|10367.7802734375|10367.78|2.2597E8|file:///src/data/...|2000.0|  5.0|\n",
      "+----------+------+----------------+----------------+----------------+----------------+--------+--------+--------------------+------+-----+\n",
      "only showing top 10 rows\n",
      "\n",
      "msci_world schema:\n",
      "root\n",
      " |-- date: date (nullable = true)\n",
      " |-- id: double (nullable = true)\n",
      " |-- open: double (nullable = true)\n",
      " |-- high: double (nullable = true)\n",
      " |-- low: double (nullable = true)\n",
      " |-- price: double (nullable = true)\n",
      " |-- adj: double (nullable = true)\n",
      " |-- volume: double (nullable = true)\n",
      " |-- source_file: string (nullable = true)\n",
      " |-- year: double (nullable = true)\n",
      " |-- month: double (nullable = true)\n",
      "\n",
      "+----------+------+------------------+------------------+------------------+------------------+------+------+--------------------+------+-----+\n",
      "|      date|    id|              open|              high|               low|             price|   adj|volume|         source_file|  year|month|\n",
      "+----------+------+------------------+------------------+------------------+------------------+------+------+--------------------+------+-----+\n",
      "|2000-05-01|6340.0|1370.0999755859375|1370.0999755859375|1370.0999755859375|1370.0999755859375|1370.1|   NaN|file:///src/data/...|2000.0|  5.0|\n",
      "|2000-05-02|6339.0|            1379.5|            1379.5|            1379.5|            1379.5|1379.5|   NaN|file:///src/data/...|2000.0|  5.0|\n",
      "|2000-05-03|6338.0|1378.0999755859375|1378.0999755859375|1378.0999755859375|1378.0999755859375|1378.1|   NaN|file:///src/data/...|2000.0|  5.0|\n",
      "|2000-05-04|6337.0|            1348.0|            1348.0|            1348.0|            1348.0|1348.0|   NaN|file:///src/data/...|2000.0|  5.0|\n",
      "|2000-05-05|6336.0|1360.9000244140625|1360.9000244140625|1360.9000244140625|1360.9000244140625|1360.9|   NaN|file:///src/data/...|2000.0|  5.0|\n",
      "|2000-05-06|6336.0|1360.9000244140625|1360.9000244140625|1360.9000244140625|1360.9000244140625|1360.9|   NaN|file:///src/data/...|2000.0|  5.0|\n",
      "|2000-05-07|6336.0|1360.9000244140625|1360.9000244140625|1360.9000244140625|1360.9000244140625|1360.9|   NaN|file:///src/data/...|2000.0|  5.0|\n",
      "|2000-05-08|6335.0|1355.9000244140625|1355.9000244140625|1355.9000244140625|1355.9000244140625|1355.9|   NaN|file:///src/data/...|2000.0|  5.0|\n",
      "|2000-05-09|6334.0|1348.4000244140625|1348.4000244140625|1348.4000244140625|1348.4000244140625|1348.4|   NaN|file:///src/data/...|2000.0|  5.0|\n",
      "|2000-05-10|6333.0| 1335.800048828125| 1335.800048828125| 1335.800048828125| 1335.800048828125|1335.8|   NaN|file:///src/data/...|2000.0|  5.0|\n",
      "+----------+------+------------------+------------------+------------------+------------------+------+------+--------------------+------+-----+\n",
      "only showing top 10 rows\n",
      "\n",
      "nasdaq100 schema:\n",
      "root\n",
      " |-- date: date (nullable = true)\n",
      " |-- id: double (nullable = true)\n",
      " |-- open: double (nullable = true)\n",
      " |-- high: double (nullable = true)\n",
      " |-- low: double (nullable = true)\n",
      " |-- price: double (nullable = true)\n",
      " |-- adj: double (nullable = true)\n",
      " |-- volume: double (nullable = true)\n",
      " |-- source_file: string (nullable = true)\n",
      " |-- year: double (nullable = true)\n",
      " |-- month: double (nullable = true)\n",
      "\n",
      "+----------+------+-----------------+-----------------+-----------------+-----------------+-------+-------------+--------------------+------+-----+\n",
      "|      date|    id|             open|             high|              low|            price|    adj|       volume|         source_file|  year|month|\n",
      "+----------+------+-----------------+-----------------+-----------------+-----------------+-------+-------------+--------------------+------+-----+\n",
      "|2000-05-01|6291.0|3789.199951171875|3871.929931640625|3777.050048828125|3829.840087890625|3829.84|1.500610048E9|file:///src/data/...|2000.0|  5.0|\n",
      "|2000-05-02|6290.0|  3768.0400390625|3824.469970703125|  3626.5400390625| 3627.31005859375|3627.31|1.438040064E9|file:///src/data/...|2000.0|  5.0|\n",
      "|2000-05-03|6289.0| 3627.31005859375| 3627.31005859375|3435.300048828125|3562.159912109375|3562.16|1.480050048E9|file:///src/data/...|2000.0|  5.0|\n",
      "|2000-05-04|6288.0|3561.719970703125| 3627.35009765625|  3518.1201171875| 3570.72998046875|3570.73|1.287849984E9|file:///src/data/...|2000.0|  5.0|\n",
      "|2000-05-05|6287.0| 3571.27001953125| 3692.39990234375|3534.070068359375|3688.360107421875|3688.36|1.197289984E9|file:///src/data/...|2000.0|  5.0|\n",
      "|2000-05-06|6287.0| 3571.27001953125| 3692.39990234375|3534.070068359375|3688.360107421875|3688.36|1.197289984E9|file:///src/data/...|2000.0|  5.0|\n",
      "|2000-05-07|6287.0| 3571.27001953125| 3692.39990234375|3534.070068359375|3688.360107421875|3688.36|1.197289984E9|file:///src/data/...|2000.0|  5.0|\n",
      "|2000-05-08|6286.0|3688.360107421875|3688.360107421875|3521.050048828125| 3521.60009765625| 3521.6|1.142710016E9|file:///src/data/...|2000.0|  5.0|\n",
      "|2000-05-09|6285.0| 3525.22998046875|  3567.9599609375|3401.820068359375|3445.260009765625|3445.26|1.454780032E9|file:///src/data/...|2000.0|  5.0|\n",
      "|2000-05-10|6284.0|3436.679931640625|3436.679931640625|  3234.9599609375| 3244.72998046875|3244.73|1.580109952E9|file:///src/data/...|2000.0|  5.0|\n",
      "+----------+------+-----------------+-----------------+-----------------+-----------------+-------+-------------+--------------------+------+-----+\n",
      "only showing top 10 rows\n",
      "\n"
     ]
    }
   ],
   "source": [
    "# Display table schemas and sample data\n",
    "print(\"gold schema:\")\n",
    "silver_gold.printSchema()\n",
    "silver_gold.show(10)\n",
    "\n",
    "# print(\"russell2000 schema:\")\n",
    "# silver_russell2000.printSchema()\n",
    "# silver_russell2000.show(5)\n",
    "\n",
    "print(\"dow_jones schema:\")\n",
    "silver_dow_jones.printSchema()\n",
    "silver_dow_jones.show(10)\n",
    "\n",
    "print(\"msci_world schema:\")\n",
    "silver_msci_world.printSchema()\n",
    "silver_msci_world.show(10)\n",
    "\n",
    "print(\"nasdaq100 schema:\")\n",
    "silver_nasdaq100.printSchema()\n",
    "silver_nasdaq100.show(10)"
   ]
  },
  {
   "cell_type": "markdown",
   "metadata": {},
   "source": [
    "## Extract and Prepare Data\n",
    "\n",
    "Extract Date and Price columns from each table and rename them appropriately"
   ]
  },
  {
   "cell_type": "code",
   "execution_count": 5,
   "metadata": {
    "scrolled": true
   },
   "outputs": [
    {
     "name": "stdout",
     "output_type": "stream",
     "text": [
      "Prepared Gold dataframe:\n",
      "+----------+-----+\n",
      "|      Date| gold|\n",
      "+----------+-----+\n",
      "|2002-10-01|994.4|\n",
      "|2002-10-02|994.4|\n",
      "|2002-10-03|994.4|\n",
      "|2002-10-04|994.4|\n",
      "|2002-10-05|994.4|\n",
      "+----------+-----+\n",
      "only showing top 5 rows\n",
      "\n",
      "Prepared Oil dataframe:\n",
      "+----------+-----+\n",
      "|      Date|  oil|\n",
      "+----------+-----+\n",
      "|2002-10-01|30.83|\n",
      "|2002-10-02|30.49|\n",
      "|2002-10-03|29.76|\n",
      "|2002-10-04|29.62|\n",
      "|2002-10-05|29.62|\n",
      "+----------+-----+\n",
      "only showing top 5 rows\n",
      "\n",
      "Prepared US Dollar dataframe:\n",
      "+----------+---------+\n",
      "|      Date|us_dollar|\n",
      "+----------+---------+\n",
      "|2002-10-01|   107.48|\n",
      "|2002-10-02|   107.54|\n",
      "|2002-10-03|   107.36|\n",
      "|2002-10-04|   108.02|\n",
      "|2002-10-05|   108.02|\n",
      "+----------+---------+\n",
      "only showing top 5 rows\n",
      "\n",
      "Prepared USD-VND dataframe:\n",
      "+----------+-------+\n",
      "|      Date|usd_vnd|\n",
      "+----------+-------+\n",
      "|2002-10-01|15341.0|\n",
      "|2002-10-02|15336.0|\n",
      "|2002-10-03|15343.0|\n",
      "|2002-10-04|15340.0|\n",
      "|2002-10-05|15340.0|\n",
      "+----------+-------+\n",
      "only showing top 5 rows\n",
      "\n"
     ]
    }
   ],
   "source": [
    "gold_df = silver_gold.select(col(\"Date\"), col(\"Price\").alias(\"gold\"))\n",
    "oil_df = silver_oil.select(col(\"Date\"), col(\"Price\").alias(\"oil\"))\n",
    "us_dollar_df = silver_us_dollar.select(col(\"Date\"), col(\"Price\").alias(\"us_dollar\"))\n",
    "usd_vnd_df = silver_usd_vnd.select(col(\"Date\"), col(\"Price\").alias(\"usd_vnd\"))\n",
    "\n",
    "print(\"Prepared Gold dataframe:\")\n",
    "gold_df.show(5)\n",
    "\n",
    "print(\"Prepared Oil dataframe:\")\n",
    "oil_df.show(5)\n",
    "\n",
    "print(\"Prepared US Dollar dataframe:\")\n",
    "us_dollar_df.show(5)\n",
    "\n",
    "print(\"Prepared USD-VND dataframe:\")\n",
    "usd_vnd_df.show(5)"
   ]
  },
  {
   "cell_type": "markdown",
   "metadata": {},
   "source": [
    "## Determine Table With Most Data\n",
    "\n",
    "Count records in each table to find which one has the most data"
   ]
  },
  {
   "cell_type": "code",
   "execution_count": 6,
   "metadata": {},
   "outputs": [
    {
     "name": "stdout",
     "output_type": "stream",
     "text": [
      "Gold records: 11022\n",
      "Oil records: 11022\n",
      "US Dollar records: 11022\n",
      "USD-VND records: 11023\n",
      "Base table with most records: usd_vnd\n"
     ]
    }
   ],
   "source": [
    "# Count records in each table\n",
    "gold_count = gold_df.count()\n",
    "oil_count = oil_df.count()\n",
    "us_dollar_count = us_dollar_df.count()\n",
    "usd_vnd_count = usd_vnd_df.count()\n",
    "\n",
    "print(f\"Gold records: {gold_count}\")\n",
    "print(f\"Oil records: {oil_count}\")\n",
    "print(f\"US Dollar records: {us_dollar_count}\")\n",
    "print(f\"USD-VND records: {usd_vnd_count}\")\n",
    "\n",
    "# # Determine which table has the most records\n",
    "counts = {\n",
    "    \"gold\": gold_count,\n",
    "    \"oil\": oil_count,\n",
    "    \"us_dollar\": us_dollar_count,\n",
    "    \"usd_vnd\": usd_vnd_count\n",
    "}\n",
    "\n",
    "base_table_name = max(counts, key=counts.get)\n",
    "print(f\"Base table with most records: {base_table_name}\")"
   ]
  },
  {
   "cell_type": "markdown",
   "metadata": {},
   "source": [
    "## Join Tables by Date\n",
    "\n",
    "Join all tables by Date, using left outer joins to maintain all dates from the base table"
   ]
  },
  {
   "cell_type": "markdown",
   "metadata": {},
   "source": [
    "final_df.show(5)"
   ]
  },
  {
   "cell_type": "code",
   "execution_count": 16,
   "metadata": {},
   "outputs": [
    {
     "name": "stdout",
     "output_type": "stream",
     "text": [
      "root\n",
      " |-- Date: date (nullable = true)\n",
      " |-- oil: float (nullable = true)\n",
      " |-- us_dollar: float (nullable = true)\n",
      " |-- gold: float (nullable = true)\n",
      " |-- usd_vnd: float (nullable = true)\n",
      "\n"
     ]
    }
   ],
   "source": [
    "dfs = [oil_df, us_dollar_df, gold_df, usd_vnd_df]\n",
    "final_df = reduce(lambda df1, df2: df1.join(df2, on='Date', how='outer'), dfs)\n",
    "final_df = final_df.orderBy('Date') \n",
    "final_df.printSchema()"
   ]
  },
  {
   "cell_type": "code",
   "execution_count": 17,
   "metadata": {},
   "outputs": [
    {
     "name": "stderr",
     "output_type": "stream",
     "text": [
      "[Stage 29:>                                                         (0 + 1) / 1]"
     ]
    },
    {
     "name": "stdout",
     "output_type": "stream",
     "text": [
      "+----------+-----+---------+-----+-------+\n",
      "|      Date|  oil|us_dollar| gold|usd_vnd|\n",
      "+----------+-----+---------+-----+-------+\n",
      "|1995-01-02| NULL|     NULL| NULL|   NULL|\n",
      "|1995-01-03|17.44|    89.21|380.9|   NULL|\n",
      "|1995-01-04|17.48|    89.35|375.3|   NULL|\n",
      "|1995-01-05|17.72|    89.04|376.6|   NULL|\n",
      "|1995-01-06|17.67|    89.71|372.2|   NULL|\n",
      "+----------+-----+---------+-----+-------+\n",
      "only showing top 5 rows\n",
      "\n"
     ]
    },
    {
     "name": "stderr",
     "output_type": "stream",
     "text": [
      "                                                                                "
     ]
    }
   ],
   "source": [
    "final_df.show(5)"
   ]
  },
  {
   "cell_type": "markdown",
   "metadata": {},
   "source": [
    "## Write to Gold Layer\n",
    "\n",
    "Save the combined table to the gold layer as 'gold_oil_usd_vnd'\n",
    "\n",
    "Write to gold layer using Iceberg format"
   ]
  },
  {
   "cell_type": "code",
   "execution_count": 11,
   "metadata": {},
   "outputs": [
    {
     "name": "stdout",
     "output_type": "stream",
     "text": [
      "#\n",
      "# A fatal error has been detected by the Java Runtime Environment:\n",
      "#\n",
      "#  SIGSEGV (0xb) at pc=0x00007f417e5dfa68, pid=5866, tid=5947\n",
      "#\n",
      "# JRE version: OpenJDK Runtime Environment (17.0.14+7) (build 17.0.14+7-Debian-1deb11u1)\n",
      "# Java VM: OpenJDK 64-Bit Server VM (17.0.14+7-Debian-1deb11u1, mixed mode, sharing, tiered, compressed oops, compressed class ptrs, g1 gc, linux-amd64)\n",
      "# Problematic frame:\n",
      "# V  [libjvm.so+0xe2ca68]  SymbolTable::do_lookup(char const*, int, unsigned long)+0xd8\n",
      "#\n",
      "# Core dump will be written. Default location: Core dumps may be processed with \"/usr/share/apport/apport -p%p -s%s -c%c -d%d -P%P -u%u -g%g -- %E\" (or dumping to /src/notebooks/core.5866)\n",
      "#\n",
      "# An error report file with more information is saved as:\n",
      "# /src/notebooks/hs_err_pid5866.log\n",
      "#\n",
      "# If you would like to submit a bug report, please visit:\n",
      "#   https://bugs.debian.org/openjdk-17\n",
      "#\n"
     ]
    },
    {
     "name": "stderr",
     "output_type": "stream",
     "text": [
      "ERROR:root:Exception while sending command.\n",
      "Traceback (most recent call last):\n",
      "  File \"/opt/spark/python/lib/py4j-0.10.9.7-src.zip/py4j/clientserver.py\", line 516, in send_command\n",
      "    raise Py4JNetworkError(\"Answer from Java side is empty\")\n",
      "py4j.protocol.Py4JNetworkError: Answer from Java side is empty\n",
      "\n",
      "During handling of the above exception, another exception occurred:\n",
      "\n",
      "Traceback (most recent call last):\n",
      "  File \"/opt/spark/python/lib/py4j-0.10.9.7-src.zip/py4j/java_gateway.py\", line 1038, in send_command\n",
      "    response = connection.send_command(command)\n",
      "  File \"/opt/spark/python/lib/py4j-0.10.9.7-src.zip/py4j/clientserver.py\", line 539, in send_command\n",
      "    raise Py4JNetworkError(\n",
      "py4j.protocol.Py4JNetworkError: Error while sending or receiving\n"
     ]
    },
    {
     "name": "stdout",
     "output_type": "stream",
     "text": [
      "Error writing to gold table: An error occurred while calling o101.saveAsTable\n"
     ]
    }
   ],
   "source": [
    "try:\n",
    "    final_df.write \\\n",
    "        .format(\"iceberg\") \\\n",
    "        .mode(\"append\") \\\n",
    "        .saveAsTable(\"datalake.gold.oil_usd\")\n",
    "    \n",
    "    print(\"Successfully wrote combined data to datalake.gold.oil_usd\")\n",
    "except Exception as e:\n",
    "    print(f\"Error writing to gold table: {e}\")"
   ]
  },
  {
   "cell_type": "markdown",
   "metadata": {},
   "source": [
    "Verify the gold table was created successfully"
   ]
  },
  {
   "cell_type": "code",
   "execution_count": null,
   "metadata": {},
   "outputs": [],
   "source": [
    "try:\n",
    "    gold_table = spark.table(\"datalake.gold.gold_oil_usd_vnd\")\n",
    "    print(\"Gold table schema:\")\n",
    "    gold_table.printSchema()\n",
    "    \n",
    "    print(\"Gold table sample data:\")\n",
    "    gold_table.show(10)\n",
    "    \n",
    "    print(f\"Total records in gold table: {gold_table.count()}\")\n",
    "except Exception as e:\n",
    "    print(f\"Error reading gold table: {e}\")"
   ]
  },
  {
   "cell_type": "markdown",
   "metadata": {},
   "source": [
    "## Data Analysis\n",
    "\n",
    "Perform some basic analysis on the combined data"
   ]
  },
  {
   "cell_type": "code",
   "execution_count": null,
   "metadata": {},
   "outputs": [],
   "source": [
    "# Check for null values in each column\n",
    "from pyspark.sql.functions import count, when, col, isnan\n",
    "\n",
    "null_counts = gold_table.select([count(when(col(c).isNull() | isnan(c), c)).alias(c) for c in gold_table.columns])\n",
    "print(\"Null value counts by column:\")\n",
    "null_counts.show()"
   ]
  },
  {
   "cell_type": "code",
   "execution_count": null,
   "metadata": {},
   "outputs": [],
   "source": [
    "# Get summary statistics for each price column\n",
    "print(\"Summary statistics:\")\n",
    "gold_table.select(\"gold\", \"oil\", \"us_dollar\", \"usd_vnd\").summary().show()"
   ]
  },
  {
   "cell_type": "code",
   "execution_count": null,
   "metadata": {},
   "outputs": [],
   "source": [
    "# Add year column for yearly analysis\n",
    "gold_table_with_year = gold_table.withColumn(\"Year\", year(\"Date\"))\n",
    "\n",
    "# Calculate yearly averages\n",
    "yearly_avgs = gold_table_with_year.groupBy(\"Year\").agg(\n",
    "    avg(\"gold\").alias(\"gold_avg\"),\n",
    "    avg(\"oil\").alias(\"oil_avg\"),\n",
    "    avg(\"us_dollar\").alias(\"us_dollar_avg\"),\n",
    "    avg(\"usd_vnd\").alias(\"usd_vnd_avg\")\n",
    ")\n",
    "\n",
    "print(\"Yearly averages:\")\n",
    "yearly_avgs.orderBy(\"Year\").show()"
   ]
  },
  {
   "cell_type": "code",
   "execution_count": 15,
   "metadata": {},
   "outputs": [
    {
     "ename": "ConnectionRefusedError",
     "evalue": "[Errno 111] Connection refused",
     "output_type": "error",
     "traceback": [
      "\u001b[0;31m---------------------------------------------------------------------------\u001b[0m",
      "\u001b[0;31mConnectionRefusedError\u001b[0m                    Traceback (most recent call last)",
      "Cell \u001b[0;32mIn[15], line 2\u001b[0m\n\u001b[1;32m      1\u001b[0m \u001b[38;5;66;03m# Stop Spark session when done\u001b[39;00m\n\u001b[0;32m----> 2\u001b[0m \u001b[43mspark\u001b[49m\u001b[38;5;241;43m.\u001b[39;49m\u001b[43mstop\u001b[49m\u001b[43m(\u001b[49m\u001b[43m)\u001b[49m\n\u001b[1;32m      3\u001b[0m \u001b[38;5;28mprint\u001b[39m(\u001b[38;5;124m\"\u001b[39m\u001b[38;5;124mSpark session stopped.\u001b[39m\u001b[38;5;124m\"\u001b[39m)\n",
      "File \u001b[0;32m/opt/spark/python/pyspark/sql/session.py:1796\u001b[0m, in \u001b[0;36mSparkSession.stop\u001b[0;34m(self)\u001b[0m\n\u001b[1;32m   1782\u001b[0m \u001b[38;5;250m\u001b[39m\u001b[38;5;124;03m\"\"\"\u001b[39;00m\n\u001b[1;32m   1783\u001b[0m \u001b[38;5;124;03mStop the underlying :class:`SparkContext`.\u001b[39;00m\n\u001b[1;32m   1784\u001b[0m \n\u001b[0;32m   (...)\u001b[0m\n\u001b[1;32m   1792\u001b[0m \u001b[38;5;124;03m>>> spark.stop()  # doctest: +SKIP\u001b[39;00m\n\u001b[1;32m   1793\u001b[0m \u001b[38;5;124;03m\"\"\"\u001b[39;00m\n\u001b[1;32m   1794\u001b[0m \u001b[38;5;28;01mfrom\u001b[39;00m\u001b[38;5;250m \u001b[39m\u001b[38;5;21;01mpyspark\u001b[39;00m\u001b[38;5;21;01m.\u001b[39;00m\u001b[38;5;21;01msql\u001b[39;00m\u001b[38;5;21;01m.\u001b[39;00m\u001b[38;5;21;01mcontext\u001b[39;00m\u001b[38;5;250m \u001b[39m\u001b[38;5;28;01mimport\u001b[39;00m SQLContext\n\u001b[0;32m-> 1796\u001b[0m \u001b[38;5;28;43mself\u001b[39;49m\u001b[38;5;241;43m.\u001b[39;49m\u001b[43m_sc\u001b[49m\u001b[38;5;241;43m.\u001b[39;49m\u001b[43mstop\u001b[49m\u001b[43m(\u001b[49m\u001b[43m)\u001b[49m\n\u001b[1;32m   1797\u001b[0m \u001b[38;5;66;03m# We should clean the default session up. See SPARK-23228.\u001b[39;00m\n\u001b[1;32m   1798\u001b[0m \u001b[38;5;28;01massert\u001b[39;00m \u001b[38;5;28mself\u001b[39m\u001b[38;5;241m.\u001b[39m_jvm \u001b[38;5;129;01mis\u001b[39;00m \u001b[38;5;129;01mnot\u001b[39;00m \u001b[38;5;28;01mNone\u001b[39;00m\n",
      "File \u001b[0;32m/opt/spark/python/pyspark/context.py:654\u001b[0m, in \u001b[0;36mSparkContext.stop\u001b[0;34m(self)\u001b[0m\n\u001b[1;32m    652\u001b[0m \u001b[38;5;28;01mif\u001b[39;00m \u001b[38;5;28mgetattr\u001b[39m(\u001b[38;5;28mself\u001b[39m, \u001b[38;5;124m\"\u001b[39m\u001b[38;5;124m_jsc\u001b[39m\u001b[38;5;124m\"\u001b[39m, \u001b[38;5;28;01mNone\u001b[39;00m):\n\u001b[1;32m    653\u001b[0m     \u001b[38;5;28;01mtry\u001b[39;00m:\n\u001b[0;32m--> 654\u001b[0m         \u001b[38;5;28;43mself\u001b[39;49m\u001b[38;5;241;43m.\u001b[39;49m\u001b[43m_jsc\u001b[49m\u001b[38;5;241;43m.\u001b[39;49m\u001b[43mstop\u001b[49m\u001b[43m(\u001b[49m\u001b[43m)\u001b[49m\n\u001b[1;32m    655\u001b[0m     \u001b[38;5;28;01mexcept\u001b[39;00m Py4JError:\n\u001b[1;32m    656\u001b[0m         \u001b[38;5;66;03m# Case: SPARK-18523\u001b[39;00m\n\u001b[1;32m    657\u001b[0m         warnings\u001b[38;5;241m.\u001b[39mwarn(\n\u001b[1;32m    658\u001b[0m             \u001b[38;5;124m\"\u001b[39m\u001b[38;5;124mUnable to cleanly shutdown Spark JVM process.\u001b[39m\u001b[38;5;124m\"\u001b[39m\n\u001b[1;32m    659\u001b[0m             \u001b[38;5;124m\"\u001b[39m\u001b[38;5;124m It is possible that the process has crashed,\u001b[39m\u001b[38;5;124m\"\u001b[39m\n\u001b[1;32m    660\u001b[0m             \u001b[38;5;124m\"\u001b[39m\u001b[38;5;124m been killed or may also be in a zombie state.\u001b[39m\u001b[38;5;124m\"\u001b[39m,\n\u001b[1;32m    661\u001b[0m             \u001b[38;5;167;01mRuntimeWarning\u001b[39;00m,\n\u001b[1;32m    662\u001b[0m         )\n",
      "File \u001b[0;32m/opt/spark/python/lib/py4j-0.10.9.7-src.zip/py4j/java_gateway.py:1321\u001b[0m, in \u001b[0;36mJavaMember.__call__\u001b[0;34m(self, *args)\u001b[0m\n\u001b[1;32m   1314\u001b[0m args_command, temp_args \u001b[38;5;241m=\u001b[39m \u001b[38;5;28mself\u001b[39m\u001b[38;5;241m.\u001b[39m_build_args(\u001b[38;5;241m*\u001b[39margs)\n\u001b[1;32m   1316\u001b[0m command \u001b[38;5;241m=\u001b[39m proto\u001b[38;5;241m.\u001b[39mCALL_COMMAND_NAME \u001b[38;5;241m+\u001b[39m\\\n\u001b[1;32m   1317\u001b[0m     \u001b[38;5;28mself\u001b[39m\u001b[38;5;241m.\u001b[39mcommand_header \u001b[38;5;241m+\u001b[39m\\\n\u001b[1;32m   1318\u001b[0m     args_command \u001b[38;5;241m+\u001b[39m\\\n\u001b[1;32m   1319\u001b[0m     proto\u001b[38;5;241m.\u001b[39mEND_COMMAND_PART\n\u001b[0;32m-> 1321\u001b[0m answer \u001b[38;5;241m=\u001b[39m \u001b[38;5;28;43mself\u001b[39;49m\u001b[38;5;241;43m.\u001b[39;49m\u001b[43mgateway_client\u001b[49m\u001b[38;5;241;43m.\u001b[39;49m\u001b[43msend_command\u001b[49m\u001b[43m(\u001b[49m\u001b[43mcommand\u001b[49m\u001b[43m)\u001b[49m\n\u001b[1;32m   1322\u001b[0m return_value \u001b[38;5;241m=\u001b[39m get_return_value(\n\u001b[1;32m   1323\u001b[0m     answer, \u001b[38;5;28mself\u001b[39m\u001b[38;5;241m.\u001b[39mgateway_client, \u001b[38;5;28mself\u001b[39m\u001b[38;5;241m.\u001b[39mtarget_id, \u001b[38;5;28mself\u001b[39m\u001b[38;5;241m.\u001b[39mname)\n\u001b[1;32m   1325\u001b[0m \u001b[38;5;28;01mfor\u001b[39;00m temp_arg \u001b[38;5;129;01min\u001b[39;00m temp_args:\n",
      "File \u001b[0;32m/opt/spark/python/lib/py4j-0.10.9.7-src.zip/py4j/java_gateway.py:1036\u001b[0m, in \u001b[0;36mGatewayClient.send_command\u001b[0;34m(self, command, retry, binary)\u001b[0m\n\u001b[1;32m   1015\u001b[0m \u001b[38;5;28;01mdef\u001b[39;00m\u001b[38;5;250m \u001b[39m\u001b[38;5;21msend_command\u001b[39m(\u001b[38;5;28mself\u001b[39m, command, retry\u001b[38;5;241m=\u001b[39m\u001b[38;5;28;01mTrue\u001b[39;00m, binary\u001b[38;5;241m=\u001b[39m\u001b[38;5;28;01mFalse\u001b[39;00m):\n\u001b[1;32m   1016\u001b[0m \u001b[38;5;250m    \u001b[39m\u001b[38;5;124;03m\"\"\"Sends a command to the JVM. This method is not intended to be\u001b[39;00m\n\u001b[1;32m   1017\u001b[0m \u001b[38;5;124;03m       called directly by Py4J users. It is usually called by\u001b[39;00m\n\u001b[1;32m   1018\u001b[0m \u001b[38;5;124;03m       :class:`JavaMember` instances.\u001b[39;00m\n\u001b[0;32m   (...)\u001b[0m\n\u001b[1;32m   1034\u001b[0m \u001b[38;5;124;03m     if `binary` is `True`.\u001b[39;00m\n\u001b[1;32m   1035\u001b[0m \u001b[38;5;124;03m    \"\"\"\u001b[39;00m\n\u001b[0;32m-> 1036\u001b[0m     connection \u001b[38;5;241m=\u001b[39m \u001b[38;5;28;43mself\u001b[39;49m\u001b[38;5;241;43m.\u001b[39;49m\u001b[43m_get_connection\u001b[49m\u001b[43m(\u001b[49m\u001b[43m)\u001b[49m\n\u001b[1;32m   1037\u001b[0m     \u001b[38;5;28;01mtry\u001b[39;00m:\n\u001b[1;32m   1038\u001b[0m         response \u001b[38;5;241m=\u001b[39m connection\u001b[38;5;241m.\u001b[39msend_command(command)\n",
      "File \u001b[0;32m/opt/spark/python/lib/py4j-0.10.9.7-src.zip/py4j/clientserver.py:284\u001b[0m, in \u001b[0;36mJavaClient._get_connection\u001b[0;34m(self)\u001b[0m\n\u001b[1;32m    281\u001b[0m     \u001b[38;5;28;01mpass\u001b[39;00m\n\u001b[1;32m    283\u001b[0m \u001b[38;5;28;01mif\u001b[39;00m connection \u001b[38;5;129;01mis\u001b[39;00m \u001b[38;5;28;01mNone\u001b[39;00m \u001b[38;5;129;01mor\u001b[39;00m connection\u001b[38;5;241m.\u001b[39msocket \u001b[38;5;129;01mis\u001b[39;00m \u001b[38;5;28;01mNone\u001b[39;00m:\n\u001b[0;32m--> 284\u001b[0m     connection \u001b[38;5;241m=\u001b[39m \u001b[38;5;28;43mself\u001b[39;49m\u001b[38;5;241;43m.\u001b[39;49m\u001b[43m_create_new_connection\u001b[49m\u001b[43m(\u001b[49m\u001b[43m)\u001b[49m\n\u001b[1;32m    285\u001b[0m \u001b[38;5;28;01mreturn\u001b[39;00m connection\n",
      "File \u001b[0;32m/opt/spark/python/lib/py4j-0.10.9.7-src.zip/py4j/clientserver.py:291\u001b[0m, in \u001b[0;36mJavaClient._create_new_connection\u001b[0;34m(self)\u001b[0m\n\u001b[1;32m    287\u001b[0m \u001b[38;5;28;01mdef\u001b[39;00m\u001b[38;5;250m \u001b[39m\u001b[38;5;21m_create_new_connection\u001b[39m(\u001b[38;5;28mself\u001b[39m):\n\u001b[1;32m    288\u001b[0m     connection \u001b[38;5;241m=\u001b[39m ClientServerConnection(\n\u001b[1;32m    289\u001b[0m         \u001b[38;5;28mself\u001b[39m\u001b[38;5;241m.\u001b[39mjava_parameters, \u001b[38;5;28mself\u001b[39m\u001b[38;5;241m.\u001b[39mpython_parameters,\n\u001b[1;32m    290\u001b[0m         \u001b[38;5;28mself\u001b[39m\u001b[38;5;241m.\u001b[39mgateway_property, \u001b[38;5;28mself\u001b[39m)\n\u001b[0;32m--> 291\u001b[0m     \u001b[43mconnection\u001b[49m\u001b[38;5;241;43m.\u001b[39;49m\u001b[43mconnect_to_java_server\u001b[49m\u001b[43m(\u001b[49m\u001b[43m)\u001b[49m\n\u001b[1;32m    292\u001b[0m     \u001b[38;5;28mself\u001b[39m\u001b[38;5;241m.\u001b[39mset_thread_connection(connection)\n\u001b[1;32m    293\u001b[0m     \u001b[38;5;28;01mreturn\u001b[39;00m connection\n",
      "File \u001b[0;32m/opt/spark/python/lib/py4j-0.10.9.7-src.zip/py4j/clientserver.py:438\u001b[0m, in \u001b[0;36mClientServerConnection.connect_to_java_server\u001b[0;34m(self)\u001b[0m\n\u001b[1;32m    435\u001b[0m \u001b[38;5;28;01mif\u001b[39;00m \u001b[38;5;28mself\u001b[39m\u001b[38;5;241m.\u001b[39mssl_context:\n\u001b[1;32m    436\u001b[0m     \u001b[38;5;28mself\u001b[39m\u001b[38;5;241m.\u001b[39msocket \u001b[38;5;241m=\u001b[39m \u001b[38;5;28mself\u001b[39m\u001b[38;5;241m.\u001b[39mssl_context\u001b[38;5;241m.\u001b[39mwrap_socket(\n\u001b[1;32m    437\u001b[0m         \u001b[38;5;28mself\u001b[39m\u001b[38;5;241m.\u001b[39msocket, server_hostname\u001b[38;5;241m=\u001b[39m\u001b[38;5;28mself\u001b[39m\u001b[38;5;241m.\u001b[39mjava_address)\n\u001b[0;32m--> 438\u001b[0m \u001b[38;5;28;43mself\u001b[39;49m\u001b[38;5;241;43m.\u001b[39;49m\u001b[43msocket\u001b[49m\u001b[38;5;241;43m.\u001b[39;49m\u001b[43mconnect\u001b[49m\u001b[43m(\u001b[49m\u001b[43m(\u001b[49m\u001b[38;5;28;43mself\u001b[39;49m\u001b[38;5;241;43m.\u001b[39;49m\u001b[43mjava_address\u001b[49m\u001b[43m,\u001b[49m\u001b[43m \u001b[49m\u001b[38;5;28;43mself\u001b[39;49m\u001b[38;5;241;43m.\u001b[39;49m\u001b[43mjava_port\u001b[49m\u001b[43m)\u001b[49m\u001b[43m)\u001b[49m\n\u001b[1;32m    439\u001b[0m \u001b[38;5;28mself\u001b[39m\u001b[38;5;241m.\u001b[39mstream \u001b[38;5;241m=\u001b[39m \u001b[38;5;28mself\u001b[39m\u001b[38;5;241m.\u001b[39msocket\u001b[38;5;241m.\u001b[39mmakefile(\u001b[38;5;124m\"\u001b[39m\u001b[38;5;124mrb\u001b[39m\u001b[38;5;124m\"\u001b[39m)\n\u001b[1;32m    440\u001b[0m \u001b[38;5;28mself\u001b[39m\u001b[38;5;241m.\u001b[39mis_connected \u001b[38;5;241m=\u001b[39m \u001b[38;5;28;01mTrue\u001b[39;00m\n",
      "\u001b[0;31mConnectionRefusedError\u001b[0m: [Errno 111] Connection refused"
     ]
    },
    {
     "name": "stderr",
     "output_type": "stream",
     "text": [
      "ERROR:root:Exception while sending command.\n",
      "Traceback (most recent call last):\n",
      "  File \"/opt/spark/python/lib/py4j-0.10.9.7-src.zip/py4j/clientserver.py\", line 516, in send_command\n",
      "    raise Py4JNetworkError(\"Answer from Java side is empty\")\n",
      "py4j.protocol.Py4JNetworkError: Answer from Java side is empty\n",
      "\n",
      "During handling of the above exception, another exception occurred:\n",
      "\n",
      "Traceback (most recent call last):\n",
      "  File \"/opt/spark/python/lib/py4j-0.10.9.7-src.zip/py4j/java_gateway.py\", line 1038, in send_command\n",
      "    response = connection.send_command(command)\n",
      "  File \"/opt/spark/python/lib/py4j-0.10.9.7-src.zip/py4j/clientserver.py\", line 539, in send_command\n",
      "    raise Py4JNetworkError(\n",
      "py4j.protocol.Py4JNetworkError: Error while sending or receiving\n"
     ]
    }
   ],
   "source": [
    "# Stop Spark session when done\n",
    "spark.stop()\n",
    "print(\"Spark session stopped.\")"
   ]
  }
 ],
 "metadata": {
  "kernelspec": {
   "display_name": "Python 3 (ipykernel)",
   "language": "python",
   "name": "python3"
  },
  "language_info": {
   "codemirror_mode": {
    "name": "ipython",
    "version": 3
   },
   "file_extension": ".py",
   "mimetype": "text/x-python",
   "name": "python",
   "nbconvert_exporter": "python",
   "pygments_lexer": "ipython3",
   "version": "3.9.22"
  }
 },
 "nbformat": 4,
 "nbformat_minor": 4
}
