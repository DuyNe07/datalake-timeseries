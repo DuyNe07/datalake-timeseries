{
 "cells": [
  {
   "cell_type": "code",
   "execution_count": 1,
   "id": "074721b5-89fa-4c96-8c0f-ae3a6cd9ec82",
   "metadata": {},
   "outputs": [],
   "source": [
    "from pyspark.sql import Window, SparkSession, DataFrame\n",
    "from pyspark.sql import functions as F"
   ]
  },
  {
   "cell_type": "code",
   "execution_count": 2,
   "id": "9b23124d-9197-471f-839c-b93cb0cafdf3",
   "metadata": {},
   "outputs": [],
   "source": [
    "spark = SparkSession.builder.appName(\"Training_model\").getOrCreate()"
   ]
  },
  {
   "cell_type": "code",
   "execution_count": 3,
   "id": "a69c978b-b31a-4a9e-9cc6-0577610e3aa5",
   "metadata": {},
   "outputs": [],
   "source": [
    "spark.read.format(\"iceberg\")\n",
    "df = spark.read.table(\"datalake.gold.all_gold_data\")"
   ]
  },
  {
   "cell_type": "code",
   "execution_count": 4,
   "id": "c855ac7e-409e-4ee8-a5fb-6dfc3288e470",
   "metadata": {},
   "outputs": [],
   "source": [
    "df_with_index = df.withColumn(\"row_num\", F.monotonically_increasing_id())"
   ]
  },
  {
   "cell_type": "code",
   "execution_count": 5,
   "id": "43ba5270-d157-4930-94db-71dae9902007",
   "metadata": {},
   "outputs": [
    {
     "name": "stderr",
     "output_type": "stream",
     "text": [
      "                                                                                "
     ]
    },
    {
     "name": "stdout",
     "output_type": "stream",
     "text": [
      "+----------+-----+-----+------+---------------+--------------+---------------+--------------+---------+-------+---------------+--------------+--------------+-------+-------+\n",
      "|      Date| gold|  oil|s_p500|us_10_year_bond|us_2_year_bond|us_3_month_bond|us_5_year_bond|us_dollar|usd_vnd|vn_10_year_bond|vn_2_year_bond|vn_5_year_bond|vnd_usd|row_num|\n",
      "+----------+-----+-----+------+---------------+--------------+---------------+--------------+---------+-------+---------------+--------------+--------------+-------+-------+\n",
      "|1995-01-02| NULL| NULL|  NULL|          7.831|          NULL|          5.629|          NULL|     NULL|11042.0|           NULL|          NULL|          NULL|   NULL|      0|\n",
      "|1995-01-03|380.9|17.44| 459.1|          7.873|         7.723|          5.655|         7.873|    89.21|11042.0|           NULL|          NULL|          NULL|   NULL|      1|\n",
      "|1995-01-04|375.3|17.48| 460.7|          7.818|          7.62|          5.812|         7.819|    89.35|11040.0|           NULL|          NULL|          NULL|   NULL|      2|\n",
      "|1995-01-05|376.6|17.72| 460.3|          7.859|         7.654|          5.873|         7.865|    89.04|11040.0|           NULL|          NULL|          NULL|   NULL|      3|\n",
      "|1995-01-06|372.2|17.67| 460.7|          7.863|          7.62|           5.87|         7.865|    89.71|11035.0|           NULL|          NULL|          NULL|   NULL|      4|\n",
      "+----------+-----+-----+------+---------------+--------------+---------------+--------------+---------+-------+---------------+--------------+--------------+-------+-------+\n",
      "only showing top 5 rows\n",
      "\n"
     ]
    }
   ],
   "source": [
    "df_with_index.show(5)"
   ]
  },
  {
   "cell_type": "code",
   "execution_count": 6,
   "id": "1163ccee-953b-4cd7-86ef-fb434ba91fe3",
   "metadata": {},
   "outputs": [],
   "source": [
    "batch_size = 1000\n",
    "total_rows = df_with_index.count()"
   ]
  },
  {
   "cell_type": "code",
   "execution_count": 7,
   "id": "e4b5441e-d81f-4c0b-b28c-42507a599a5a",
   "metadata": {},
   "outputs": [
    {
     "data": {
      "text/plain": [
       "8357"
      ]
     },
     "metadata": {},
     "output_type": "display_data"
    }
   ],
   "source": [
    "display(total_rows)"
   ]
  },
  {
   "cell_type": "code",
   "execution_count": 8,
   "id": "8405c121-0091-48a7-ac54-b3cd4d4c35d4",
   "metadata": {},
   "outputs": [
    {
     "name": "stdout",
     "output_type": "stream",
     "text": [
      "Processing rows 1 to 1000\n",
      "Processing rows 1001 to 2000\n",
      "Processing rows 2001 to 3000\n",
      "Processing rows 3001 to 4000\n",
      "Processing rows 4001 to 5000\n",
      "Processing rows 5001 to 6000\n",
      "Processing rows 6001 to 7000\n",
      "Processing rows 7001 to 8000\n",
      "Processing rows 8001 to 9000\n"
     ]
    }
   ],
   "source": [
    "for start in range(1, total_rows + 1, batch_size):\n",
    "    end = start + batch_size - 1\n",
    "    print(f\"Processing rows {start} to {end}\")\n",
    "\n",
    "    batch = df_with_index.filter((F.col(\"row_num\") >= start) & (F.col(\"row_num\") < end)) \\\n",
    "                         .drop(\"row_num\") \\\n",
    "                         .select(\"Date\", \"gold\", \"oil\", \"s_p500\", \"us_10_year_bond\", \"us_2_year_bond\", \"us_3_month_bond\", \"us_5_year_bond\", \"us_dollar\", \"usd_vnd\")\n",
    "\n",
    "    # Save to CSV (append mode)\n",
    "    # batch.write.mode(\"append\").saveAsTable(\"all_gold_data.csv\")"
   ]
  },
  {
   "cell_type": "code",
   "execution_count": 9,
   "id": "07543884-456b-4656-a4f5-3d96bb122907",
   "metadata": {},
   "outputs": [],
   "source": [
    "spark.stop()"
   ]
  }
 ],
 "metadata": {
  "kernelspec": {
   "display_name": "Python 3 (ipykernel)",
   "language": "python",
   "name": "python3"
  },
  "language_info": {
   "codemirror_mode": {
    "name": "ipython",
    "version": 3
   },
   "file_extension": ".py",
   "mimetype": "text/x-python",
   "name": "python",
   "nbconvert_exporter": "python",
   "pygments_lexer": "ipython3",
   "version": "3.9.22"
  }
 },
 "nbformat": 4,
 "nbformat_minor": 5
}
