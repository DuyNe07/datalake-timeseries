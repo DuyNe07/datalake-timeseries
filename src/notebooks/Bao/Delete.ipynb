{
 "cells": [
  {
   "cell_type": "code",
   "execution_count": 1,
   "id": "8086901c-f1c9-4fb1-93fd-208f8c008c95",
   "metadata": {},
   "outputs": [],
   "source": [
    "from datetime import datetime\n",
    "from typing import List, Optional, Tuple\n",
    "from pyspark.sql.window import Window\n",
    "from pyspark.sql import SparkSession, DataFrame # type: ignore\n",
    "from pyspark.sql.functions import col, to_timestamp, year, month, max as max_, rank, desc, asc # type: ignore\n",
    "from functools import reduce\n",
    "from pyspark.sql.functions import to_date, current_date\n",
    "\n",
    "\n",
    "SOURCE_CATALOG = \"datalake\"\n",
    "SOURCE_NAMESPACE = f\"{SOURCE_CATALOG}.gold\"\n",
    "TARGET_CATALOG = \"datalake\"\n",
    "TARGET_NAMESPACE = f\"{TARGET_CATALOG}.gold\"\n",
    "TARGET_DATE_FILTER = \"1995-01-01\"\n",
    "FINANCIAL_COLUMNS = [\"price\"]\n",
    "DATE_COLUMN = \"Date\""
   ]
  },
  {
   "cell_type": "code",
   "execution_count": 11,
   "id": "dee737c5-6735-40cf-a859-0ea4be56cc48",
   "metadata": {},
   "outputs": [
    {
     "data": {
      "text/plain": [
       "DataFrame[]"
      ]
     },
     "execution_count": 11,
     "metadata": {},
     "output_type": "execute_result"
    }
   ],
   "source": [
    "spark = (\n",
    "        SparkSession.builder.appName(\"Test_read\")\n",
    "        .enableHiveSupport()\n",
    "        .config(\"spark.sql.parquet.datetimeRebaseModeInWrite\", \"CORRECTED\")\n",
    "        .config(\"spark.sql.avro.datetimeRebaseModeInWrite\", \"CORRECTED\")\n",
    "        .getOrCreate()\n",
    "    )\n",
    "spark.sql(f\"CREATE NAMESPACE IF NOT EXISTS {TARGET_NAMESPACE}\")"
   ]
  },
  {
   "cell_type": "code",
   "execution_count": 15,
   "id": "86121a91-58b8-4dc4-b2bf-39579c317560",
   "metadata": {},
   "outputs": [],
   "source": [
    "tables = ['dow_jones', 'gold', 'inflation', 'interest', 'msci_world', 'nasdaq100', 'oil', 'russell2000']"
   ]
  },
  {
   "cell_type": "code",
   "execution_count": 16,
   "id": "1348f797-a252-49b1-affa-56398a9cb0b5",
   "metadata": {
    "scrolled": true
   },
   "outputs": [
    {
     "name": "stdout",
     "output_type": "stream",
     "text": [
      "datalake.bronze.dow_jones\n",
      "Tables loaded successfully\n"
     ]
    },
    {
     "name": "stderr",
     "output_type": "stream",
     "text": [
      "                                                                                "
     ]
    },
    {
     "name": "stdout",
     "output_type": "stream",
     "text": [
      "datalake.bronze.gold\n",
      "Tables loaded successfully\n"
     ]
    },
    {
     "name": "stderr",
     "output_type": "stream",
     "text": [
      "                                                                                "
     ]
    },
    {
     "name": "stdout",
     "output_type": "stream",
     "text": [
      "datalake.bronze.inflation\n",
      "Tables loaded successfully\n"
     ]
    },
    {
     "name": "stderr",
     "output_type": "stream",
     "text": [
      "                                                                                "
     ]
    },
    {
     "name": "stdout",
     "output_type": "stream",
     "text": [
      "datalake.bronze.interest\n",
      "Tables loaded successfully\n"
     ]
    },
    {
     "name": "stderr",
     "output_type": "stream",
     "text": [
      "                                                                                "
     ]
    },
    {
     "name": "stdout",
     "output_type": "stream",
     "text": [
      "datalake.bronze.msci_world\n",
      "Tables loaded successfully\n"
     ]
    },
    {
     "name": "stderr",
     "output_type": "stream",
     "text": [
      "                                                                                "
     ]
    },
    {
     "name": "stdout",
     "output_type": "stream",
     "text": [
      "datalake.bronze.nasdaq100\n",
      "Tables loaded successfully\n"
     ]
    },
    {
     "name": "stderr",
     "output_type": "stream",
     "text": [
      "                                                                                "
     ]
    },
    {
     "name": "stdout",
     "output_type": "stream",
     "text": [
      "datalake.bronze.oil\n",
      "Tables loaded successfully\n"
     ]
    },
    {
     "name": "stderr",
     "output_type": "stream",
     "text": [
      "                                                                                "
     ]
    },
    {
     "name": "stdout",
     "output_type": "stream",
     "text": [
      "datalake.bronze.russell2000\n",
      "Tables loaded successfully\n"
     ]
    },
    {
     "name": "stderr",
     "output_type": "stream",
     "text": [
      "                                                                                "
     ]
    }
   ],
   "source": [
    "for table in tables:\n",
    "    table_name = f\"datalake.bronze.{table}\"\n",
    "    print(table_name)\n",
    "    # Read silver tables\n",
    "    try:\n",
    "        merged_data = spark.table(table_name)\n",
    "        \n",
    "        print(\"Tables loaded successfully\")\n",
    "    except Exception as e:\n",
    "        print(f\"Error loading silver tables: {e}\")\n",
    "    df_filtered = merged_data.filter(to_date(\"inserted\") < current_date())\n",
    "    df_filtered.write.mode(\"overwrite\").partitionBy(\"year\", \"month\").format(\"iceberg\").saveAsTable(table_name)\n"
   ]
  },
  {
   "cell_type": "code",
   "execution_count": 36,
   "id": "5a9fa639-dc63-4799-9589-f7d628767db5",
   "metadata": {},
   "outputs": [],
   "source": [
    "table_name = \"datalake.gold.indices\""
   ]
  },
  {
   "cell_type": "code",
   "execution_count": 37,
   "id": "7f76032e-2c76-4139-a661-59d837af8282",
   "metadata": {},
   "outputs": [
    {
     "name": "stdout",
     "output_type": "stream",
     "text": [
      "Tables loaded successfully\n"
     ]
    }
   ],
   "source": [
    "# Read silver tables\n",
    "try:\n",
    "    merged_data = spark.table(table_name)\n",
    "    \n",
    "    print(\"Tables loaded successfully\")\n",
    "except Exception as e:\n",
    "    print(f\"Error loading silver tables: {e}\")"
   ]
  },
  {
   "cell_type": "code",
   "execution_count": 38,
   "id": "062095e1-adac-44e8-9448-a331a5bf4a1a",
   "metadata": {},
   "outputs": [
    {
     "name": "stdout",
     "output_type": "stream",
     "text": [
      "Merge data schema:\n",
      "root\n",
      " |-- date: timestamp (nullable = true)\n",
      " |-- gold: float (nullable = true)\n",
      " |-- russell2000: float (nullable = true)\n",
      " |-- dow_jones: float (nullable = true)\n",
      " |-- msci_world: float (nullable = true)\n",
      " |-- nasdaq100: float (nullable = true)\n",
      " |-- s_p500: float (nullable = true)\n",
      " |-- id: long (nullable = true)\n",
      " |-- year: integer (nullable = true)\n",
      " |-- month: integer (nullable = true)\n",
      "\n",
      "+-------------------+-----+-----------+---------+----------+---------+------+----+----+-----+\n",
      "|               date| gold|russell2000|dow_jones|msci_world|nasdaq100|s_p500|  id|year|month|\n",
      "+-------------------+-----+-----------+---------+----------+---------+------+----+----+-----+\n",
      "|2002-10-04 00:00:00|323.3|     347.98|   7528.4|     727.0|    815.4| 800.6|2830|2002|   10|\n",
      "|2002-10-07 00:00:00|323.1|     338.29|  7422.84|     742.2|   804.64| 785.3|2833|2002|   10|\n",
      "|2002-10-09 00:00:00|320.8|     327.04|  7286.27|     704.7|   807.42| 776.8|2835|2002|   10|\n",
      "|2002-10-10 00:00:00|317.4|     336.18|  7533.95|     721.6|   849.57| 803.9|2836|2002|   10|\n",
      "|2002-10-12 00:00:00|317.2|     344.93|  7850.29|     749.7|   890.61| 835.3|2838|2002|   10|\n",
      "+-------------------+-----+-----------+---------+----------+---------+------+----+----+-----+\n",
      "only showing top 5 rows\n",
      "\n"
     ]
    }
   ],
   "source": [
    "# Display table schemas and sample data\n",
    "print(\"Merge data schema:\")\n",
    "merged_data.printSchema()\n",
    "merged_data.show(5)"
   ]
  },
  {
   "cell_type": "code",
   "execution_count": 39,
   "id": "1b9d111a-b424-41b0-887d-a0c644067941",
   "metadata": {},
   "outputs": [
    {
     "data": {
      "text/plain": [
       "11101"
      ]
     },
     "execution_count": 39,
     "metadata": {},
     "output_type": "execute_result"
    }
   ],
   "source": [
    "merged_data.count()"
   ]
  },
  {
   "cell_type": "code",
   "execution_count": 40,
   "id": "05e07afe-7176-46d0-9b5d-8acfb608b81d",
   "metadata": {},
   "outputs": [
    {
     "name": "stdout",
     "output_type": "stream",
     "text": [
      "+-------------------+------+-----------+---------+----------+---------+-------+-----+----+-----+\n",
      "|               date|  gold|russell2000|dow_jones|msci_world|nasdaq100| s_p500|   id|year|month|\n",
      "+-------------------+------+-----------+---------+----------+---------+-------+-----+----+-----+\n",
      "|2025-05-27 00:00:00|3363.6|    2039.85| 41603.07|    3813.9| 18737.21|5802.82|11101|2025|    5|\n",
      "|2025-05-26 00:00:00|3363.6|    2039.85| 41603.07|    3813.9| 18737.21|5802.82|11100|2025|    5|\n",
      "|2025-05-25 00:00:00|3363.6|    2039.85| 41603.07|    3802.8| 18737.21|5802.82|11099|2025|    5|\n",
      "|2025-05-24 00:00:00|3363.6|    2039.85| 41603.07|    3802.8| 18737.21|5802.82|11098|2025|    5|\n",
      "|2025-05-23 00:00:00|3363.6|    2039.85| 41603.07|    3802.8| 18737.21|5802.82|11097|2025|    5|\n",
      "|2025-05-22 00:00:00|3292.3|    2045.56| 41859.09|    3818.9| 18925.74|5842.01|11096|2025|    5|\n",
      "|2025-05-21 00:00:00|3309.3|    2046.56| 41860.44|    3829.8| 18872.64|5844.61|11095|2025|    5|\n",
      "|2025-05-20 00:00:00|3280.3|    2105.58| 42677.24|    3870.0| 19142.71|5940.46|11094|2025|    5|\n",
      "|2025-05-19 00:00:00|3228.9|    2104.43| 42792.07|    3874.1| 19215.46| 5963.6|11093|2025|    5|\n",
      "|2025-05-18 00:00:00|3182.0|    2113.25| 42654.74|    3863.3|  19211.1|5958.38|11092|2025|    5|\n",
      "|2025-05-17 00:00:00|3182.0|    2113.25| 42654.74|    3863.3|  19211.1|5958.38|11091|2025|    5|\n",
      "|2025-05-16 00:00:00|3182.0|    2113.25| 42654.74|    3863.3|  19211.1|5958.38|11090|2025|    5|\n",
      "|2025-05-15 00:00:00|3220.7|    2094.69| 42322.75|    3842.2| 19112.32|5916.93|11089|2025|    5|\n",
      "|2025-05-14 00:00:00|3181.4|     2083.8| 42051.06|    3830.7| 19146.81|5892.58|11088|2025|    5|\n",
      "|2025-05-13 00:00:00|3240.3|    2102.35| 42140.43|    3823.1| 19010.09|5886.55|11087|2025|    5|\n",
      "|2025-05-12 00:00:00|3220.0|     2092.2|  42410.1|    3793.7| 18708.34|5844.19|11086|2025|    5|\n",
      "|2025-05-11 00:00:00|3335.4|    2023.07| 41249.38|    3711.7| 17928.92|5659.91|11085|2025|    5|\n",
      "|2025-05-10 00:00:00|3335.4|    2023.07| 41249.38|    3711.7| 17928.92|5659.91|11084|2025|    5|\n",
      "|2025-05-09 00:00:00|3335.4|    2023.07| 41249.38|    3711.7| 17928.92|5659.91|11083|2025|    5|\n",
      "|2025-05-08 00:00:00|3296.6|    2026.41| 41368.45|    3707.9| 17928.14|5663.94|11082|2025|    5|\n",
      "+-------------------+------+-----------+---------+----------+---------+-------+-----+----+-----+\n",
      "only showing top 20 rows\n",
      "\n"
     ]
    }
   ],
   "source": [
    "merged_data.orderBy(desc('date')).show()"
   ]
  },
  {
   "cell_type": "code",
   "execution_count": 9,
   "id": "d540a729-4553-4c2c-9822-359d8599989d",
   "metadata": {},
   "outputs": [
    {
     "data": {
      "text/plain": [
       "11020"
      ]
     },
     "execution_count": 9,
     "metadata": {},
     "output_type": "execute_result"
    }
   ],
   "source": [
    "# Filter out rows from today\n",
    "df_filtered = merged_data.filter(to_date(\"inserted\") < current_date())\n",
    "df_filtered.count()"
   ]
  },
  {
   "cell_type": "code",
   "execution_count": 10,
   "id": "f204fc27-ac4a-4211-b52a-db4fab80b1ea",
   "metadata": {
    "scrolled": true
   },
   "outputs": [
    {
     "name": "stdout",
     "output_type": "stream",
     "text": [
      "#\n",
      "# A fatal error has been detected by the Java Runtime Environment:\n",
      "#\n",
      "#  SIGSEGV (0xb) at pc=0x00007fd8b7d6e044, pid=222779, tid=222995\n",
      "#\n",
      "# JRE version: OpenJDK Runtime Environment (11.0.26+4) (build 11.0.26+4-post-Debian-1deb11u1)\n",
      "# Java VM: OpenJDK 64-Bit Server VM (11.0.26+4-post-Debian-1deb11u1, mixed mode, sharing, tiered, compressed oops, g1 gc, linux-amd64)\n",
      "# Problematic frame:\n",
      "# V  [libjvm.so+0xc35044]  ProtectionDomainEntry::object_no_keepalive()+0x4\n",
      "#\n",
      "# Core dump will be written. Default location: Core dumps may be processed with \"/usr/share/apport/apport -p%p -s%s -c%c -d%d -P%P -u%u -g%g -- %E\" (or dumping to /src/notebooks/Bao/core.222779)\n",
      "#\n",
      "# An error report file with more information is saved as:\n",
      "# /src/notebooks/Bao/hs_err_pid222779.log\n",
      "#\n",
      "# If you would like to submit a bug report, please visit:\n",
      "#   https://bugs.debian.org/openjdk-11\n",
      "#\n"
     ]
    },
    {
     "name": "stderr",
     "output_type": "stream",
     "text": [
      "ERROR:root:Exception while sending command.\n",
      "Traceback (most recent call last):\n",
      "  File \"/opt/spark/python/lib/py4j-0.10.9.7-src.zip/py4j/clientserver.py\", line 516, in send_command\n",
      "    raise Py4JNetworkError(\"Answer from Java side is empty\")\n",
      "py4j.protocol.Py4JNetworkError: Answer from Java side is empty\n",
      "\n",
      "During handling of the above exception, another exception occurred:\n",
      "\n",
      "Traceback (most recent call last):\n",
      "  File \"/opt/spark/python/lib/py4j-0.10.9.7-src.zip/py4j/java_gateway.py\", line 1038, in send_command\n",
      "    response = connection.send_command(command)\n",
      "  File \"/opt/spark/python/lib/py4j-0.10.9.7-src.zip/py4j/clientserver.py\", line 539, in send_command\n",
      "    raise Py4JNetworkError(\n",
      "py4j.protocol.Py4JNetworkError: Error while sending or receiving\n",
      "ERROR:root:Exception while sending command.\n",
      "Traceback (most recent call last):\n",
      "  File \"/opt/spark/python/lib/py4j-0.10.9.7-src.zip/py4j/clientserver.py\", line 516, in send_command\n",
      "    raise Py4JNetworkError(\"Answer from Java side is empty\")\n",
      "py4j.protocol.Py4JNetworkError: Answer from Java side is empty\n",
      "\n",
      "During handling of the above exception, another exception occurred:\n",
      "\n",
      "Traceback (most recent call last):\n",
      "  File \"/opt/spark/python/lib/py4j-0.10.9.7-src.zip/py4j/java_gateway.py\", line 1038, in send_command\n",
      "    response = connection.send_command(command)\n",
      "  File \"/opt/spark/python/lib/py4j-0.10.9.7-src.zip/py4j/clientserver.py\", line 539, in send_command\n",
      "    raise Py4JNetworkError(\n",
      "py4j.protocol.Py4JNetworkError: Error while sending or receiving\n"
     ]
    },
    {
     "ename": "Py4JError",
     "evalue": "An error occurred while calling o115.saveAsTable",
     "output_type": "error",
     "traceback": [
      "\u001b[0;31m---------------------------------------------------------------------------\u001b[0m",
      "\u001b[0;31mPy4JError\u001b[0m                                 Traceback (most recent call last)",
      "Cell \u001b[0;32mIn[10], line 1\u001b[0m\n\u001b[0;32m----> 1\u001b[0m \u001b[43mdf_filtered\u001b[49m\u001b[38;5;241;43m.\u001b[39;49m\u001b[43mwrite\u001b[49m\u001b[38;5;241;43m.\u001b[39;49m\u001b[43mformat\u001b[49m\u001b[43m(\u001b[49m\u001b[38;5;124;43m\"\u001b[39;49m\u001b[38;5;124;43miceberg\u001b[39;49m\u001b[38;5;124;43m\"\u001b[39;49m\u001b[43m)\u001b[49m\u001b[38;5;241;43m.\u001b[39;49m\u001b[43mmode\u001b[49m\u001b[43m(\u001b[49m\u001b[38;5;124;43m\"\u001b[39;49m\u001b[38;5;124;43moverwrite\u001b[39;49m\u001b[38;5;124;43m\"\u001b[39;49m\u001b[43m)\u001b[49m\u001b[38;5;241;43m.\u001b[39;49m\u001b[43moption\u001b[49m\u001b[43m(\u001b[49m\u001b[38;5;124;43m\"\u001b[39;49m\u001b[38;5;124;43moverwriteSchema\u001b[39;49m\u001b[38;5;124;43m\"\u001b[39;49m\u001b[43m,\u001b[49m\u001b[43m \u001b[49m\u001b[38;5;124;43m\"\u001b[39;49m\u001b[38;5;124;43mtrue\u001b[39;49m\u001b[38;5;124;43m\"\u001b[39;49m\u001b[43m)\u001b[49m\u001b[38;5;241;43m.\u001b[39;49m\u001b[43msaveAsTable\u001b[49m\u001b[43m(\u001b[49m\u001b[43mtable_name\u001b[49m\u001b[43m)\u001b[49m\n",
      "File \u001b[0;32m/opt/spark/python/pyspark/sql/readwriter.py:1586\u001b[0m, in \u001b[0;36mDataFrameWriter.saveAsTable\u001b[0;34m(self, name, format, mode, partitionBy, **options)\u001b[0m\n\u001b[1;32m   1584\u001b[0m \u001b[38;5;28;01mif\u001b[39;00m \u001b[38;5;28mformat\u001b[39m \u001b[38;5;129;01mis\u001b[39;00m \u001b[38;5;129;01mnot\u001b[39;00m \u001b[38;5;28;01mNone\u001b[39;00m:\n\u001b[1;32m   1585\u001b[0m     \u001b[38;5;28mself\u001b[39m\u001b[38;5;241m.\u001b[39mformat(\u001b[38;5;28mformat\u001b[39m)\n\u001b[0;32m-> 1586\u001b[0m \u001b[38;5;28;43mself\u001b[39;49m\u001b[38;5;241;43m.\u001b[39;49m\u001b[43m_jwrite\u001b[49m\u001b[38;5;241;43m.\u001b[39;49m\u001b[43msaveAsTable\u001b[49m\u001b[43m(\u001b[49m\u001b[43mname\u001b[49m\u001b[43m)\u001b[49m\n",
      "File \u001b[0;32m/opt/spark/python/lib/py4j-0.10.9.7-src.zip/py4j/java_gateway.py:1322\u001b[0m, in \u001b[0;36mJavaMember.__call__\u001b[0;34m(self, *args)\u001b[0m\n\u001b[1;32m   1316\u001b[0m command \u001b[38;5;241m=\u001b[39m proto\u001b[38;5;241m.\u001b[39mCALL_COMMAND_NAME \u001b[38;5;241m+\u001b[39m\\\n\u001b[1;32m   1317\u001b[0m     \u001b[38;5;28mself\u001b[39m\u001b[38;5;241m.\u001b[39mcommand_header \u001b[38;5;241m+\u001b[39m\\\n\u001b[1;32m   1318\u001b[0m     args_command \u001b[38;5;241m+\u001b[39m\\\n\u001b[1;32m   1319\u001b[0m     proto\u001b[38;5;241m.\u001b[39mEND_COMMAND_PART\n\u001b[1;32m   1321\u001b[0m answer \u001b[38;5;241m=\u001b[39m \u001b[38;5;28mself\u001b[39m\u001b[38;5;241m.\u001b[39mgateway_client\u001b[38;5;241m.\u001b[39msend_command(command)\n\u001b[0;32m-> 1322\u001b[0m return_value \u001b[38;5;241m=\u001b[39m \u001b[43mget_return_value\u001b[49m\u001b[43m(\u001b[49m\n\u001b[1;32m   1323\u001b[0m \u001b[43m    \u001b[49m\u001b[43manswer\u001b[49m\u001b[43m,\u001b[49m\u001b[43m \u001b[49m\u001b[38;5;28;43mself\u001b[39;49m\u001b[38;5;241;43m.\u001b[39;49m\u001b[43mgateway_client\u001b[49m\u001b[43m,\u001b[49m\u001b[43m \u001b[49m\u001b[38;5;28;43mself\u001b[39;49m\u001b[38;5;241;43m.\u001b[39;49m\u001b[43mtarget_id\u001b[49m\u001b[43m,\u001b[49m\u001b[43m \u001b[49m\u001b[38;5;28;43mself\u001b[39;49m\u001b[38;5;241;43m.\u001b[39;49m\u001b[43mname\u001b[49m\u001b[43m)\u001b[49m\n\u001b[1;32m   1325\u001b[0m \u001b[38;5;28;01mfor\u001b[39;00m temp_arg \u001b[38;5;129;01min\u001b[39;00m temp_args:\n\u001b[1;32m   1326\u001b[0m     \u001b[38;5;28;01mif\u001b[39;00m \u001b[38;5;28mhasattr\u001b[39m(temp_arg, \u001b[38;5;124m\"\u001b[39m\u001b[38;5;124m_detach\u001b[39m\u001b[38;5;124m\"\u001b[39m):\n",
      "File \u001b[0;32m/opt/spark/python/pyspark/errors/exceptions/captured.py:179\u001b[0m, in \u001b[0;36mcapture_sql_exception.<locals>.deco\u001b[0;34m(*a, **kw)\u001b[0m\n\u001b[1;32m    177\u001b[0m \u001b[38;5;28;01mdef\u001b[39;00m\u001b[38;5;250m \u001b[39m\u001b[38;5;21mdeco\u001b[39m(\u001b[38;5;241m*\u001b[39ma: Any, \u001b[38;5;241m*\u001b[39m\u001b[38;5;241m*\u001b[39mkw: Any) \u001b[38;5;241m-\u001b[39m\u001b[38;5;241m>\u001b[39m Any:\n\u001b[1;32m    178\u001b[0m     \u001b[38;5;28;01mtry\u001b[39;00m:\n\u001b[0;32m--> 179\u001b[0m         \u001b[38;5;28;01mreturn\u001b[39;00m \u001b[43mf\u001b[49m\u001b[43m(\u001b[49m\u001b[38;5;241;43m*\u001b[39;49m\u001b[43ma\u001b[49m\u001b[43m,\u001b[49m\u001b[43m \u001b[49m\u001b[38;5;241;43m*\u001b[39;49m\u001b[38;5;241;43m*\u001b[39;49m\u001b[43mkw\u001b[49m\u001b[43m)\u001b[49m\n\u001b[1;32m    180\u001b[0m     \u001b[38;5;28;01mexcept\u001b[39;00m Py4JJavaError \u001b[38;5;28;01mas\u001b[39;00m e:\n\u001b[1;32m    181\u001b[0m         converted \u001b[38;5;241m=\u001b[39m convert_exception(e\u001b[38;5;241m.\u001b[39mjava_exception)\n",
      "File \u001b[0;32m/opt/spark/python/lib/py4j-0.10.9.7-src.zip/py4j/protocol.py:334\u001b[0m, in \u001b[0;36mget_return_value\u001b[0;34m(answer, gateway_client, target_id, name)\u001b[0m\n\u001b[1;32m    330\u001b[0m             \u001b[38;5;28;01mraise\u001b[39;00m Py4JError(\n\u001b[1;32m    331\u001b[0m                 \u001b[38;5;124m\"\u001b[39m\u001b[38;5;124mAn error occurred while calling \u001b[39m\u001b[38;5;132;01m{0}\u001b[39;00m\u001b[38;5;132;01m{1}\u001b[39;00m\u001b[38;5;132;01m{2}\u001b[39;00m\u001b[38;5;124m. Trace:\u001b[39m\u001b[38;5;130;01m\\n\u001b[39;00m\u001b[38;5;132;01m{3}\u001b[39;00m\u001b[38;5;130;01m\\n\u001b[39;00m\u001b[38;5;124m\"\u001b[39m\u001b[38;5;241m.\u001b[39m\n\u001b[1;32m    332\u001b[0m                 \u001b[38;5;28mformat\u001b[39m(target_id, \u001b[38;5;124m\"\u001b[39m\u001b[38;5;124m.\u001b[39m\u001b[38;5;124m\"\u001b[39m, name, value))\n\u001b[1;32m    333\u001b[0m     \u001b[38;5;28;01melse\u001b[39;00m:\n\u001b[0;32m--> 334\u001b[0m         \u001b[38;5;28;01mraise\u001b[39;00m Py4JError(\n\u001b[1;32m    335\u001b[0m             \u001b[38;5;124m\"\u001b[39m\u001b[38;5;124mAn error occurred while calling \u001b[39m\u001b[38;5;132;01m{0}\u001b[39;00m\u001b[38;5;132;01m{1}\u001b[39;00m\u001b[38;5;132;01m{2}\u001b[39;00m\u001b[38;5;124m\"\u001b[39m\u001b[38;5;241m.\u001b[39m\n\u001b[1;32m    336\u001b[0m             \u001b[38;5;28mformat\u001b[39m(target_id, \u001b[38;5;124m\"\u001b[39m\u001b[38;5;124m.\u001b[39m\u001b[38;5;124m\"\u001b[39m, name))\n\u001b[1;32m    337\u001b[0m \u001b[38;5;28;01melse\u001b[39;00m:\n\u001b[1;32m    338\u001b[0m     \u001b[38;5;28mtype\u001b[39m \u001b[38;5;241m=\u001b[39m answer[\u001b[38;5;241m1\u001b[39m]\n",
      "\u001b[0;31mPy4JError\u001b[0m: An error occurred while calling o115.saveAsTable"
     ]
    }
   ],
   "source": [
    "df_filtered.write.format(\"iceberg\").mode(\"overwrite\").option(\"overwriteSchema\", \"true\").saveAsTable(table_name)"
   ]
  },
  {
   "cell_type": "code",
   "execution_count": 185,
   "id": "1b33c949-53e2-4f03-845d-f7430a749a6f",
   "metadata": {},
   "outputs": [],
   "source": [
    "window_spec = Window.partitionBy(DATE_COLUMN).orderBy(col(\"inserted\").desc())\n",
    "df_ranked = merged_data.withColumn(\"rnk\", rank().over(window_spec)) \n"
   ]
  },
  {
   "cell_type": "code",
   "execution_count": 186,
   "id": "77c79d3c-3eb5-449f-ba1e-4ba77709cd49",
   "metadata": {},
   "outputs": [
    {
     "name": "stdout",
     "output_type": "stream",
     "text": [
      "+----------+-------+-------+-------+-------+------+--------------------+----+-----+--------------------+---+\n",
      "|      date|  price|   open|   high|    low|volume|         source_file|year|month|            inserted|rnk|\n",
      "+----------+-------+-------+-------+-------+------+--------------------+----+-----+--------------------+---+\n",
      "|1995-01-05|11040.0|11040.0|11040.0|11040.0|  NULL|file:///src/data/...|1995|    1|2025-05-25 08:44:...|  1|\n",
      "|1995-01-06|11035.0|11035.0|11035.0|11035.0|  NULL|file:///src/data/...|1995|    1|2025-05-25 08:44:...|  1|\n",
      "|1995-01-07|11035.0|11035.0|11035.0|11035.0|  NULL|                NULL|NULL| NULL|2025-05-25 08:44:...|  1|\n",
      "|1995-01-08|11035.0|11035.0|11035.0|11035.0|  NULL|                NULL|NULL| NULL|2025-05-25 08:44:...|  1|\n",
      "|1995-01-09|11035.0|11035.0|11035.0|11035.0|  NULL|file:///src/data/...|1995|    1|2025-05-25 08:44:...|  1|\n",
      "|1995-01-10|11040.0|11040.0|11040.0|11040.0|  NULL|file:///src/data/...|1995|    1|2025-05-25 08:44:...|  1|\n",
      "|1995-01-11|11045.0|11045.0|11045.0|11045.0|  NULL|file:///src/data/...|1995|    1|2025-05-25 08:44:...|  1|\n",
      "|1995-01-12|11048.0|11048.0|11048.0|11048.0|  NULL|file:///src/data/...|1995|    1|2025-05-25 08:44:...|  1|\n",
      "|1995-01-13|11046.0|11046.0|11046.0|11046.0|  NULL|file:///src/data/...|1995|    1|2025-05-25 08:44:...|  1|\n",
      "|1995-01-14|11046.0|11046.0|11046.0|11046.0|  NULL|                NULL|NULL| NULL|2025-05-25 08:44:...|  1|\n",
      "|1995-01-15|11046.0|11046.0|11046.0|11046.0|  NULL|                NULL|NULL| NULL|2025-05-25 08:44:...|  1|\n",
      "|1995-01-16|11046.0|11046.0|11046.0|11046.0|  NULL|file:///src/data/...|1995|    1|2025-05-25 08:44:...|  1|\n",
      "|1995-01-17|11046.0|11046.0|11046.0|11046.0|  NULL|file:///src/data/...|1995|    1|2025-05-25 08:44:...|  1|\n",
      "|1995-01-18|11046.0|11046.0|11046.0|11046.0|  NULL|file:///src/data/...|1995|    1|2025-05-25 08:44:...|  1|\n",
      "|1995-01-19|11044.0|11044.0|11044.0|11044.0|  NULL|file:///src/data/...|1995|    1|2025-05-25 08:44:...|  1|\n",
      "|1995-01-20|11043.0|11043.0|11043.0|11043.0|  NULL|file:///src/data/...|1995|    1|2025-05-25 08:44:...|  1|\n",
      "|1995-01-21|11043.0|11043.0|11043.0|11043.0|  NULL|                NULL|NULL| NULL|2025-05-25 08:44:...|  1|\n",
      "|1995-01-22|11043.0|11043.0|11043.0|11043.0|  NULL|                NULL|NULL| NULL|2025-05-25 08:44:...|  1|\n",
      "|1995-01-23|11040.0|11040.0|11040.0|11040.0|  NULL|file:///src/data/...|1995|    1|2025-05-25 08:44:...|  1|\n",
      "|1995-01-24|11040.0|11040.0|11040.0|11040.0|  NULL|file:///src/data/...|1995|    1|2025-05-25 08:44:...|  1|\n",
      "+----------+-------+-------+-------+-------+------+--------------------+----+-----+--------------------+---+\n",
      "only showing top 20 rows\n",
      "\n"
     ]
    }
   ],
   "source": [
    "df_ranked.show()"
   ]
  },
  {
   "cell_type": "code",
   "execution_count": 188,
   "id": "796480ee-106f-4696-a4a9-658429d55227",
   "metadata": {},
   "outputs": [
    {
     "name": "stdout",
     "output_type": "stream",
     "text": [
      "+----------+-------+-------+-------+-------+------+--------------------+----+-----+--------------------+\n",
      "|      date|  price|   open|   high|    low|volume|         source_file|year|month|            inserted|\n",
      "+----------+-------+-------+-------+-------+------+--------------------+----+-----+--------------------+\n",
      "|1995-01-05|11040.0|11040.0|11040.0|11040.0|  NULL|file:///src/data/...|1995|    1|2025-05-25 08:44:...|\n",
      "|1995-01-06|11035.0|11035.0|11035.0|11035.0|  NULL|file:///src/data/...|1995|    1|2025-05-25 08:44:...|\n",
      "|1995-01-07|11035.0|11035.0|11035.0|11035.0|  NULL|                NULL|NULL| NULL|2025-05-25 08:44:...|\n",
      "|1995-01-08|11035.0|11035.0|11035.0|11035.0|  NULL|                NULL|NULL| NULL|2025-05-25 08:44:...|\n",
      "|1995-01-09|11035.0|11035.0|11035.0|11035.0|  NULL|file:///src/data/...|1995|    1|2025-05-25 08:44:...|\n",
      "+----------+-------+-------+-------+-------+------+--------------------+----+-----+--------------------+\n",
      "\n"
     ]
    }
   ],
   "source": [
    "df = df_ranked.filter(col(\"rnk\") == 1).drop(\"rnk\")\n",
    "df.orderBy(DATE_COLUMN).limit(5).show()"
   ]
  },
  {
   "cell_type": "code",
   "execution_count": null,
   "id": "3e6a83d1-777b-4da7-8755-9e4372fd20b7",
   "metadata": {},
   "outputs": [],
   "source": []
  }
 ],
 "metadata": {
  "kernelspec": {
   "display_name": "Python 3 (ipykernel)",
   "language": "python",
   "name": "python3"
  },
  "language_info": {
   "codemirror_mode": {
    "name": "ipython",
    "version": 3
   },
   "file_extension": ".py",
   "mimetype": "text/x-python",
   "name": "python",
   "nbconvert_exporter": "python",
   "pygments_lexer": "ipython3",
   "version": "3.9.22"
  }
 },
 "nbformat": 4,
 "nbformat_minor": 5
}
