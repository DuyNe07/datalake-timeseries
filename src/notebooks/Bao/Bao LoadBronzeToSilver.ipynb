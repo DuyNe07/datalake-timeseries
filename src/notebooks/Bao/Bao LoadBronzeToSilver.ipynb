{
 "cells": [
  {
   "cell_type": "code",
   "execution_count": 1,
   "metadata": {},
   "outputs": [],
   "source": [
    "import os\n",
    "import sys\n",
    "from pyspark.sql import SparkSession, DataFrame # type: ignore\n",
    "from pyspark.sql.functions import col, last, row_number, to_timestamp, regexp_replace, lit # type: ignore\n",
    "from pyspark.sql.window import Window # type: ignore"
   ]
  },
  {
   "cell_type": "code",
   "execution_count": 2,
   "metadata": {},
   "outputs": [
    {
     "data": {
      "text/plain": [
       "DataFrame[]"
      ]
     },
     "execution_count": 2,
     "metadata": {},
     "output_type": "execute_result"
    }
   ],
   "source": [
    "spark = SparkSession.builder.appName(\"Testing_load_Silver\").getOrCreate()\n",
    "spark.sql(\"CREATE DATABASE IF NOT EXISTS datalake.silver\")"
   ]
  },
  {
   "cell_type": "code",
   "execution_count": 3,
   "metadata": {},
   "outputs": [
    {
     "name": "stdout",
     "output_type": "stream",
     "text": [
      "root\n",
      " |-- Date: string (nullable = true)\n",
      " |-- Price: string (nullable = true)\n",
      " |-- Open: string (nullable = true)\n",
      " |-- High: string (nullable = true)\n",
      " |-- Low: string (nullable = true)\n",
      " |-- Vol: string (nullable = true)\n",
      " |-- Change: string (nullable = true)\n",
      "\n",
      "None\n"
     ]
    },
    {
     "name": "stderr",
     "output_type": "stream",
     "text": [
      "                                                                                "
     ]
    },
    {
     "name": "stdout",
     "output_type": "stream",
     "text": [
      "+----------+--------+--------+--------+--------+-------+------+\n",
      "|      Date|   Price|    Open|    High|     Low|    Vol|Change|\n",
      "+----------+--------+--------+--------+--------+-------+------+\n",
      "|11/25/2013|1,241.20|1,241.60|1,254.00|1,225.70|195.44K|-0.23%|\n",
      "|11/22/2013|1,244.10|1,242.30|1,248.30|1,240.30|135.22K| 0.04%|\n",
      "|11/21/2013|1,243.60|1,241.80|1,250.00|1,235.80|197.77K|-1.14%|\n",
      "|11/20/2013|1,258.00|1,274.50|1,275.70|1,240.20|224.19K|-1.22%|\n",
      "|11/19/2013|1,273.50|1,275.00|1,278.20|1,268.00|105.15K| 0.09%|\n",
      "+----------+--------+--------+--------+--------+-------+------+\n",
      "only showing top 5 rows\n",
      "\n"
     ]
    }
   ],
   "source": [
    "bronze_table_gold = spark.table(\"datalake.bronze.gold\")\n",
    "bronze_table_gold.createOrReplaceTempView(\"bronze_table_gold\")\n",
    "\n",
    "print(bronze_table_gold.printSchema())\n",
    "bronze_table_gold.show(5)"
   ]
  },
  {
   "cell_type": "code",
   "execution_count": 4,
   "metadata": {},
   "outputs": [
    {
     "data": {
      "text/plain": [
       "12645"
      ]
     },
     "execution_count": 4,
     "metadata": {},
     "output_type": "execute_result"
    }
   ],
   "source": [
    "bronze_table_gold.count()"
   ]
  },
  {
   "cell_type": "code",
   "execution_count": 5,
   "metadata": {},
   "outputs": [
    {
     "name": "stdout",
     "output_type": "stream",
     "text": [
      "root\n",
      " |-- Date: date (nullable = true)\n",
      " |-- Price: double (nullable = true)\n",
      " |-- Open: double (nullable = true)\n",
      " |-- High: double (nullable = true)\n",
      " |-- Low: double (nullable = true)\n",
      "\n",
      "+----------+------+------+------+------+\n",
      "|      Date| Price|  Open|  High|   Low|\n",
      "+----------+------+------+------+------+\n",
      "|2013-11-25|1241.2|1241.6|1254.0|1225.7|\n",
      "|2013-11-22|1244.1|1242.3|1248.3|1240.3|\n",
      "|2013-11-21|1243.6|1241.8|1250.0|1235.8|\n",
      "|2013-11-20|1258.0|1274.5|1275.7|1240.2|\n",
      "|2013-11-19|1273.5|1275.0|1278.2|1268.0|\n",
      "+----------+------+------+------+------+\n",
      "only showing top 5 rows\n",
      "\n"
     ]
    }
   ],
   "source": [
    "df_temp = bronze_table_gold.select(\"Date\", \"Price\", \"Open\", \"High\",  \"Low\")\n",
    "df_temp = df_temp.withColumn(\"Date\", to_timestamp(col(\"Date\"), \"MM/dd/yyyy\").cast(\"date\"))\n",
    "for c in [\"Price\", \"Open\", \"High\", \"Low\"]:\n",
    "    df_temp = df_temp.withColumn(c, regexp_replace(col(c), \",\", \"\"))\n",
    "    df_temp = df_temp.withColumn(c, col(c).cast(\"double\"))\n",
    "\n",
    "df_temp.printSchema()\n",
    "df_temp.show(5)"
   ]
  },
  {
   "cell_type": "code",
   "execution_count": 6,
   "metadata": {},
   "outputs": [
    {
     "name": "stdout",
     "output_type": "stream",
     "text": [
      "+----------+------+------+------+------+\n",
      "|      Date| Price|  Open|  High|   Low|\n",
      "+----------+------+------+------+------+\n",
      "|2013-11-25|1241.2|1241.6|1254.0|1225.7|\n",
      "|2013-11-22|1244.1|1242.3|1248.3|1240.3|\n",
      "|2013-11-21|1243.6|1241.8|1250.0|1235.8|\n",
      "|2013-11-20|1258.0|1274.5|1275.7|1240.2|\n",
      "|2013-11-19|1273.5|1275.0|1278.2|1268.0|\n",
      "+----------+------+------+------+------+\n",
      "only showing top 5 rows\n",
      "\n"
     ]
    }
   ],
   "source": [
    "start_date = lit('1995-01-02').cast(\"date\")\n",
    "df_temp = df_temp.filter(col(\"Date\") >= start_date)\n",
    "df_temp.show(5)"
   ]
  },
  {
   "cell_type": "code",
   "execution_count": 7,
   "metadata": {},
   "outputs": [
    {
     "data": {
      "text/plain": [
       "7610"
      ]
     },
     "execution_count": 7,
     "metadata": {},
     "output_type": "execute_result"
    }
   ],
   "source": [
    "df_temp.count()"
   ]
  },
  {
   "cell_type": "code",
   "execution_count": 8,
   "metadata": {},
   "outputs": [],
   "source": [
    "df_temp.write.format(\"iceberg\").mode(\"overwrite\").saveAsTable(\"datalake.gold.gold_new\")"
   ]
  },
  {
   "cell_type": "code",
   "execution_count": 9,
   "metadata": {},
   "outputs": [],
   "source": [
    "spark.stop()"
   ]
  },
  {
   "cell_type": "code",
   "execution_count": null,
   "metadata": {},
   "outputs": [],
   "source": []
  }
 ],
 "metadata": {
  "kernelspec": {
   "display_name": "Python 3 (ipykernel)",
   "language": "python",
   "name": "python3"
  },
  "language_info": {
   "codemirror_mode": {
    "name": "ipython",
    "version": 3
   },
   "file_extension": ".py",
   "mimetype": "text/x-python",
   "name": "python",
   "nbconvert_exporter": "python",
   "pygments_lexer": "ipython3",
   "version": "3.9.22"
  }
 },
 "nbformat": 4,
 "nbformat_minor": 4
}
