{
 "cells": [
  {
   "cell_type": "code",
   "execution_count": 81,
   "id": "c417d1ee-49af-4967-9be2-041a768db299",
   "metadata": {},
   "outputs": [],
   "source": [
    "import keras\n",
    "from keras.layers import TFSMLayer\n",
    "import numpy as np\n",
    "import pandas as pd\n",
    "from sklearn.preprocessing import MinMaxScaler"
   ]
  },
  {
   "cell_type": "code",
   "execution_count": 102,
   "id": "054099e5-4d56-4819-afee-dbb54ad98de6",
   "metadata": {},
   "outputs": [],
   "source": [
    "SEQ_LEN = 7\n",
    "MODEL_PATH = '/src/airflow/model/varnn_indices_model'\n",
    "CSV_PATH = '/src/data/future/VARNN/indices_future_03_06_2025.csv'"
   ]
  },
  {
   "cell_type": "code",
   "execution_count": 103,
   "id": "7a6787eb-f902-4c17-b59d-4b1cda845d36",
   "metadata": {},
   "outputs": [],
   "source": [
    "layer = TFSMLayer(MODEL_PATH, call_endpoint=\"serving_default\")"
   ]
  },
  {
   "cell_type": "code",
   "execution_count": 104,
   "id": "11166677-84b2-4889-886d-a43606054735",
   "metadata": {},
   "outputs": [],
   "source": [
    "df = pd.read_csv(CSV_PATH)\n",
    "df = df.sort_values('date')  \n",
    "features = df.drop(columns='date').columns\n",
    "df_features = df[features]"
   ]
  },
  {
   "cell_type": "code",
   "execution_count": 105,
   "id": "8240c544-3e19-4281-a0e3-c57fc3ea5234",
   "metadata": {},
   "outputs": [],
   "source": [
    "scalers = {}\n",
    "scaled_df = pd.DataFrame()\n",
    "for col in features:\n",
    "    scaler = MinMaxScaler(feature_range=(-1, 1))\n",
    "    scaled_df[col] = scaler.fit_transform(df_features[[col]]).flatten()\n",
    "    scalers[col] = scaler"
   ]
  },
  {
   "cell_type": "code",
   "execution_count": 106,
   "id": "84078fe1-1422-4d58-814b-661fef3b9b77",
   "metadata": {},
   "outputs": [],
   "source": [
    "diff_df = scaled_df.diff().fillna(0).reset_index(drop=True)"
   ]
  },
  {
   "cell_type": "code",
   "execution_count": 107,
   "id": "faded1e3-638f-4212-8e2e-259a8acb345e",
   "metadata": {},
   "outputs": [],
   "source": [
    "input_seq = diff_df.iloc[-SEQ_LEN:].values\n",
    "input_tensor = np.expand_dims(input_seq, axis=0).astype(np.float32)"
   ]
  },
  {
   "cell_type": "code",
   "execution_count": 109,
   "id": "5d24467a-0105-46fc-ab01-4cd1ffca6ca6",
   "metadata": {},
   "outputs": [],
   "source": [
    "output_dict = layer(input_tensor)"
   ]
  },
  {
   "cell_type": "code",
   "execution_count": 110,
   "id": "55250051-f2b8-4292-a047-e60acb7da392",
   "metadata": {},
   "outputs": [],
   "source": [
    "predicted_diff = list(output_dict.values())[0].numpy()[0]"
   ]
  },
  {
   "cell_type": "code",
   "execution_count": 111,
   "id": "02013cae-b810-4523-9196-f008f03d493a",
   "metadata": {},
   "outputs": [],
   "source": [
    "last_scaled = scaled_df.iloc[-1].values\n",
    "undiff_scaled = predicted_diff + last_scaled"
   ]
  },
  {
   "cell_type": "code",
   "execution_count": 113,
   "id": "652e96ef-5335-45f1-acfb-28c60cc117da",
   "metadata": {},
   "outputs": [],
   "source": [
    "unscaled = []\n",
    "for i, col in enumerate(features):\n",
    "    val = scalers[col].inverse_transform([[undiff_scaled[i]]])[0, 0]\n",
    "    unscaled.append(val)"
   ]
  },
  {
   "cell_type": "code",
   "execution_count": 115,
   "id": "10ed965f-3e07-4f05-b2f3-6c62948f042a",
   "metadata": {},
   "outputs": [
    {
     "name": "stdout",
     "output_type": "stream",
     "text": [
      "Predicted next real-world values (real):\n",
      "gold: 3369.97\n",
      "russell2000: 2069.28\n",
      "dow_jones: 42313.48\n",
      "msci_world: 3885.25\n",
      "nasdaq100: 19239.80\n",
      "s_p500: 5933.58\n"
     ]
    }
   ],
   "source": [
    "print(\"Predicted next real-world values (real):\")\n",
    "for name, val in zip(features, unscaled):\n",
    "    print(f\"{name}: {val:.2f}\")"
   ]
  }
 ],
 "metadata": {
  "kernelspec": {
   "display_name": "Python 3 (ipykernel)",
   "language": "python",
   "name": "python3"
  },
  "language_info": {
   "codemirror_mode": {
    "name": "ipython",
    "version": 3
   },
   "file_extension": ".py",
   "mimetype": "text/x-python",
   "name": "python",
   "nbconvert_exporter": "python",
   "pygments_lexer": "ipython3",
   "version": "3.9.22"
  }
 },
 "nbformat": 4,
 "nbformat_minor": 5
}
