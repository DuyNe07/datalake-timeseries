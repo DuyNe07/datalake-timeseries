{
 "cells": [
  {
   "cell_type": "code",
   "execution_count": 1,
   "id": "c417d1ee-49af-4967-9be2-041a768db299",
   "metadata": {},
   "outputs": [
    {
     "name": "stderr",
     "output_type": "stream",
     "text": [
      "2025-06-10 00:01:41.002623: I tensorflow/core/util/port.cc:153] oneDNN custom operations are on. You may see slightly different numerical results due to floating-point round-off errors from different computation orders. To turn them off, set the environment variable `TF_ENABLE_ONEDNN_OPTS=0`.\n",
      "2025-06-10 00:01:41.472627: E external/local_xla/xla/stream_executor/cuda/cuda_fft.cc:467] Unable to register cuFFT factory: Attempting to register factory for plugin cuFFT when one has already been registered\n",
      "WARNING: All log messages before absl::InitializeLog() is called are written to STDERR\n",
      "E0000 00:00:1749513701.630962   46259 cuda_dnn.cc:8579] Unable to register cuDNN factory: Attempting to register factory for plugin cuDNN when one has already been registered\n",
      "E0000 00:00:1749513701.674126   46259 cuda_blas.cc:1407] Unable to register cuBLAS factory: Attempting to register factory for plugin cuBLAS when one has already been registered\n",
      "W0000 00:00:1749513702.129605   46259 computation_placer.cc:177] computation placer already registered. Please check linkage and avoid linking the same target more than once.\n",
      "W0000 00:00:1749513702.129650   46259 computation_placer.cc:177] computation placer already registered. Please check linkage and avoid linking the same target more than once.\n",
      "W0000 00:00:1749513702.129653   46259 computation_placer.cc:177] computation placer already registered. Please check linkage and avoid linking the same target more than once.\n",
      "W0000 00:00:1749513702.129655   46259 computation_placer.cc:177] computation placer already registered. Please check linkage and avoid linking the same target more than once.\n",
      "2025-06-10 00:01:42.170375: I tensorflow/core/platform/cpu_feature_guard.cc:210] This TensorFlow binary is optimized to use available CPU instructions in performance-critical operations.\n",
      "To enable the following instructions: AVX2 AVX512F AVX512_VNNI FMA, in other operations, rebuild TensorFlow with the appropriate compiler flags.\n"
     ]
    }
   ],
   "source": [
    "import keras\n",
    "from keras.layers import TFSMLayer\n",
    "import numpy as np\n",
    "import pandas as pd\n",
    "from sklearn.preprocessing import MinMaxScaler"
   ]
  },
  {
   "cell_type": "code",
   "execution_count": 13,
   "id": "054099e5-4d56-4819-afee-dbb54ad98de6",
   "metadata": {},
   "outputs": [],
   "source": [
    "SEQ_LEN = 2\n",
    "MODEL_PATH = '/src/airflow/model/varnn_macro_model'\n",
    "CSV_PATH = '/src/data/future/VARNN/macro_future_09_06_2025.csv'"
   ]
  },
  {
   "cell_type": "code",
   "execution_count": 14,
   "id": "7a6787eb-f902-4c17-b59d-4b1cda845d36",
   "metadata": {},
   "outputs": [],
   "source": [
    "layer = TFSMLayer(MODEL_PATH, call_endpoint=\"serving_default\")"
   ]
  },
  {
   "cell_type": "code",
   "execution_count": 15,
   "id": "11166677-84b2-4889-886d-a43606054735",
   "metadata": {},
   "outputs": [],
   "source": [
    "df = pd.read_csv(CSV_PATH)\n",
    "df = df.sort_values('date')  \n",
    "features = df.drop(columns='date').columns\n",
    "df_features = df[features]"
   ]
  },
  {
   "cell_type": "code",
   "execution_count": 16,
   "id": "8240c544-3e19-4281-a0e3-c57fc3ea5234",
   "metadata": {},
   "outputs": [],
   "source": [
    "scalers = {}\n",
    "scaled_df = pd.DataFrame()\n",
    "for col in features:\n",
    "    scaler = MinMaxScaler(feature_range=(-1, 1))\n",
    "    scaled_df[col] = scaler.fit_transform(df_features[[col]]).flatten()\n",
    "    scalers[col] = scaler"
   ]
  },
  {
   "cell_type": "code",
   "execution_count": 17,
   "id": "84078fe1-1422-4d58-814b-661fef3b9b77",
   "metadata": {},
   "outputs": [],
   "source": [
    "diff_df = scaled_df.diff().fillna(0).reset_index(drop=True)"
   ]
  },
  {
   "cell_type": "code",
   "execution_count": 18,
   "id": "faded1e3-638f-4212-8e2e-259a8acb345e",
   "metadata": {},
   "outputs": [],
   "source": [
    "input_seq = diff_df.iloc[-SEQ_LEN:].values\n",
    "input_tensor = np.expand_dims(input_seq, axis=0).astype(np.float32)"
   ]
  },
  {
   "cell_type": "code",
   "execution_count": 19,
   "id": "5d24467a-0105-46fc-ab01-4cd1ffca6ca6",
   "metadata": {},
   "outputs": [],
   "source": [
    "output_dict = layer(input_tensor)"
   ]
  },
  {
   "cell_type": "code",
   "execution_count": 20,
   "id": "55250051-f2b8-4292-a047-e60acb7da392",
   "metadata": {},
   "outputs": [],
   "source": [
    "predicted_diff = list(output_dict.values())[0].numpy()[0]"
   ]
  },
  {
   "cell_type": "code",
   "execution_count": 21,
   "id": "02013cae-b810-4523-9196-f008f03d493a",
   "metadata": {},
   "outputs": [],
   "source": [
    "last_scaled = scaled_df.iloc[-1].values\n",
    "undiff_scaled = predicted_diff + last_scaled"
   ]
  },
  {
   "cell_type": "code",
   "execution_count": 22,
   "id": "652e96ef-5335-45f1-acfb-28c60cc117da",
   "metadata": {},
   "outputs": [],
   "source": [
    "unscaled = []\n",
    "for i, col in enumerate(features):\n",
    "    val = scalers[col].inverse_transform([[undiff_scaled[i]]])[0, 0]\n",
    "    unscaled.append(val)"
   ]
  },
  {
   "cell_type": "code",
   "execution_count": 23,
   "id": "10ed965f-3e07-4f05-b2f3-6c62948f042a",
   "metadata": {},
   "outputs": [
    {
     "name": "stdout",
     "output_type": "stream",
     "text": [
      "Predicted next real-world values (real):\n",
      "gold: 3350.48\n",
      "oil: 63.38\n",
      "us_dollar: 98.71\n",
      "usd_vnd: 26054.46\n",
      "cpi: 319.62\n",
      "inflation_rate: -0.10\n",
      "interest_rate: 4.33\n"
     ]
    }
   ],
   "source": [
    "print(\"Predicted next real-world values (real):\")\n",
    "for name, val in zip(features, unscaled):\n",
    "    print(f\"{name}: {val:.2f}\")"
   ]
  },
  {
   "cell_type": "code",
   "execution_count": null,
   "id": "c117a0fe-1ac4-4072-b7b0-1f15d8248e63",
   "metadata": {},
   "outputs": [],
   "source": []
  },
  {
   "cell_type": "code",
   "execution_count": null,
   "id": "8d7b9262-e9fe-47f0-9b0b-226c11235472",
   "metadata": {},
   "outputs": [],
   "source": []
  }
 ],
 "metadata": {
  "kernelspec": {
   "display_name": "Python 3 (ipykernel)",
   "language": "python",
   "name": "python3"
  },
  "language_info": {
   "codemirror_mode": {
    "name": "ipython",
    "version": 3
   },
   "file_extension": ".py",
   "mimetype": "text/x-python",
   "name": "python",
   "nbconvert_exporter": "python",
   "pygments_lexer": "ipython3",
   "version": "3.9.22"
  }
 },
 "nbformat": 4,
 "nbformat_minor": 5
}
