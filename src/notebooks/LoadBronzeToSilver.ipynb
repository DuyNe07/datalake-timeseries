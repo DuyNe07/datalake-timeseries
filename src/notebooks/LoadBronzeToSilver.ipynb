{
 "cells": [
  {
   "cell_type": "code",
   "execution_count": 17,
   "metadata": {},
   "outputs": [],
   "source": [
    "from datetime import datetime\n",
    "from typing import List, Optional, Tuple\n",
    "\n",
    "from pyspark.sql import SparkSession, DataFrame # type: ignore\n",
    "from pyspark.sql.functions import col, input_file_name, year, month, to_timestamp # type: ignore\n",
    "\n",
    "# Constants\n",
    "BASE_RAW_DATA_DIR = \"/src/data/raw/\"\n",
    "TARGET_CATALOG = \"datalake\"\n",
    "TARGET_NAMESPACE = f\"{TARGET_CATALOG}.silver\"\n",
    "DATE_FORMATS = [\"yyyy-MM-dd'T'HH:mm:ss.SSSZ\", \"yyyy-MM-dd'T'HH:mm:ssZ\", \n",
    "               'yyyy-MM-dd HH:mm:ss.SSS', 'yyyy-MM-dd HH:mm:ss', 'MM/dd/yyyy HH:mm:ss', \n",
    "               'MM/dd/yyyy', 'yyyy-MM-dd', 'dd/MM/yyyy', 'dd-MM-yyyy', 'MM-dd-yyyy']"
   ]
  },
  {
   "cell_type": "code",
   "execution_count": 18,
   "metadata": {},
   "outputs": [
    {
     "data": {
      "text/plain": [
       "DataFrame[]"
      ]
     },
     "execution_count": 18,
     "metadata": {},
     "output_type": "execute_result"
    }
   ],
   "source": [
    "spark = (\n",
    "        SparkSession.builder.appName(\"Test_read\")\n",
    "        .enableHiveSupport()\n",
    "        .config(\"spark.sql.parquet.datetimeRebaseModeInWrite\", \"CORRECTED\")\n",
    "        .config(\"spark.sql.avro.datetimeRebaseModeInWrite\", \"CORRECTED\")\n",
    "        .getOrCreate()\n",
    "    )\n",
    "spark.sql(f\"CREATE NAMESPACE IF NOT EXISTS {TARGET_NAMESPACE}\")"
   ]
  },
  {
   "cell_type": "code",
   "execution_count": 20,
   "metadata": {},
   "outputs": [
    {
     "name": "stdout",
     "output_type": "stream",
     "text": [
      "root\n",
      " |-- Date: date (nullable = true)\n",
      " |-- Price: float (nullable = true)\n",
      " |-- Open: float (nullable = true)\n",
      " |-- High: float (nullable = true)\n",
      " |-- Low: float (nullable = true)\n",
      " |-- year: integer (nullable = true)\n",
      " |-- month: integer (nullable = true)\n",
      "\n",
      "None\n",
      "+----------+-----+-----+-----+-----+----+-----+\n",
      "|      Date|Price| Open| High|  Low|year|month|\n",
      "+----------+-----+-----+-----+-----+----+-----+\n",
      "|2015-05-30|6.538|6.538|6.538|6.538|2015|    5|\n",
      "|2015-05-29|6.538|6.538|6.538|6.538|2015|    5|\n",
      "|2015-05-28|6.538|6.538|6.538|6.538|2015|    5|\n",
      "|2015-05-27|6.535|6.535|6.535|6.535|2015|    5|\n",
      "|2015-05-26|6.535|6.535|6.535|6.535|2015|    5|\n",
      "+----------+-----+-----+-----+-----+----+-----+\n",
      "only showing top 5 rows\n",
      "\n"
     ]
    }
   ],
   "source": [
    "bronze_table_gold = spark.table(\"datalake.silver.vn_10_year_bond\")\n",
    "\n",
    "print(bronze_table_gold.printSchema())\n",
    "bronze_table_gold.show(5)"
   ]
  },
  {
   "cell_type": "code",
   "execution_count": 4,
   "metadata": {},
   "outputs": [
    {
     "name": "stdout",
     "output_type": "stream",
     "text": [
      "root\n",
      " |-- Date: date (nullable = true)\n",
      " |-- Price: float (nullable = true)\n",
      " |-- Open: float (nullable = true)\n",
      " |-- High: float (nullable = true)\n",
      " |-- Low: float (nullable = true)\n",
      "\n",
      "None\n",
      "+----------+-----+-----+-----+-----+\n",
      "|      Date|Price| Open| High|  Low|\n",
      "+----------+-----+-----+-----+-----+\n",
      "|2002-10-31|318.4|317.2|318.7|316.0|\n",
      "|2002-10-30|316.9|318.2|318.2|316.4|\n",
      "|2002-10-29|318.1|315.7|318.8|315.7|\n",
      "|2002-10-28|315.6|313.8|315.9|313.5|\n",
      "|2002-10-25|313.9|311.8|314.8|311.7|\n",
      "+----------+-----+-----+-----+-----+\n",
      "only showing top 5 rows\n",
      "\n"
     ]
    }
   ],
   "source": [
    "df_temp = bronze_table_gold.select(\"Date\", \"Price\", \"Open\", \"High\",  \"Low\")\n",
    "df_temp = df_temp.withColumn(\"Date\", to_timestamp(col(\"Date\"), \"MM/dd/yyyy\").cast(\"date\"))\n",
    "df_temp = df_temp.withColumn(\"Price\", col(\"Price\").cast(\"float\"))\n",
    "df_temp = df_temp.withColumn(\"Open\", col(\"Open\").cast(\"float\"))\n",
    "df_temp = df_temp.withColumn(\"High\", col(\"High\").cast(\"float\"))\n",
    "df_temp = df_temp.withColumn(\"Low\", col(\"Low\").cast(\"float\"))\n",
    "\n",
    "print(df_temp.printSchema())\n",
    "df_temp.show(5)"
   ]
  },
  {
   "cell_type": "code",
   "execution_count": 6,
   "metadata": {},
   "outputs": [
    {
     "name": "stderr",
     "output_type": "stream",
     "text": [
      "                                                                                "
     ]
    },
    {
     "name": "stdout",
     "output_type": "stream",
     "text": [
      "+----------+-----+-----+-----+-----+\n",
      "|      Date|Price| Open| High|  Low|\n",
      "+----------+-----+-----+-----+-----+\n",
      "|1975-01-03|174.7|173.0|175.5|170.5|\n",
      "|1975-01-06|174.4|172.0|174.5|167.5|\n",
      "|1975-01-07|173.4|171.0|174.0|168.5|\n",
      "|1975-01-08|177.4|176.0|180.0|176.0|\n",
      "|1975-01-09|178.3|179.0|179.1|177.0|\n",
      "+----------+-----+-----+-----+-----+\n",
      "only showing top 5 rows\n",
      "\n"
     ]
    }
   ],
   "source": [
    "df_temp = df_temp.orderBy(\"Date\")\n",
    "df_temp.show(5)"
   ]
  },
  {
   "cell_type": "code",
   "execution_count": 47,
   "metadata": {},
   "outputs": [
    {
     "name": "stdout",
     "output_type": "stream",
     "text": [
      "root\n",
      " |-- Date: date (nullable = true)\n",
      " |-- Price: string (nullable = true)\n",
      " |-- Open: string (nullable = true)\n",
      " |-- High: string (nullable = true)\n",
      " |-- Low: string (nullable = true)\n",
      "\n",
      "None\n",
      "+----------+-----+-----+-----+-----+\n",
      "|      Date|Price| Open| High|  Low|\n",
      "+----------+-----+-----+-----+-----+\n",
      "|1993-12-30|391.9|393.3|393.9|391.0|\n",
      "|1993-12-29|391.8|386.6|392.5|384.8|\n",
      "|1993-12-28|388.5|389.7|390.0|387.9|\n",
      "|1993-12-27|389.1|388.1|389.4|387.7|\n",
      "|1993-12-23|387.0|387.0|387.3|385.6|\n",
      "+----------+-----+-----+-----+-----+\n",
      "only showing top 5 rows\n",
      "\n"
     ]
    }
   ],
   "source": [
    "df_temp = df_temp.withColumn(\"Date\", to_timestamp(\"Date\", \"MM/dd/yyyy\").cast(\"date\"))\n",
    "\n",
    "print(df_temp.printSchema())\n",
    "df_temp.show(5)"
   ]
  },
  {
   "cell_type": "code",
   "execution_count": null,
   "metadata": {},
   "outputs": [],
   "source": []
  },
  {
   "cell_type": "code",
   "execution_count": 7,
   "metadata": {},
   "outputs": [],
   "source": [
    "spark.stop()"
   ]
  }
 ],
 "metadata": {
  "kernelspec": {
   "display_name": "Python 3 (ipykernel)",
   "language": "python",
   "name": "python3"
  },
  "language_info": {
   "codemirror_mode": {
    "name": "ipython",
    "version": 3
   },
   "file_extension": ".py",
   "mimetype": "text/x-python",
   "name": "python",
   "nbconvert_exporter": "python",
   "pygments_lexer": "ipython3",
   "version": "3.9.22"
  }
 },
 "nbformat": 4,
 "nbformat_minor": 4
}
