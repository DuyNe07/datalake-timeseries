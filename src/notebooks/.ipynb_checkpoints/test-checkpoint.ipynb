{
 "cells": [
  {
   "cell_type": "code",
   "execution_count": 1,
   "id": "f1871ff5-d7c0-4fe8-9bbc-ed352f15ebcc",
   "metadata": {},
   "outputs": [],
   "source": [
    "from pyspark.sql import SparkSession\n"
   ]
  },
  {
   "cell_type": "code",
   "execution_count": 2,
   "id": "976ac2e6-6c66-4a0e-b803-b22c3223ee59",
   "metadata": {},
   "outputs": [
    {
     "name": "stderr",
     "output_type": "stream",
     "text": [
      "25/03/19 15:32:00 WARN SparkSession: Using an existing Spark session; only runtime SQL configurations will take effect.\n"
     ]
    }
   ],
   "source": [
    "\n",
    "\n",
    "spark = SparkSession.builder \\\n",
    "    .appName(\"IcebergS3\") \\\n",
    "    .getOrCreate()\n",
    "\n",
    "\n"
   ]
  },
  {
   "cell_type": "code",
   "execution_count": 3,
   "id": "0ae088fd-1e0c-4bb6-aa37-b0d81c0ae527",
   "metadata": {},
   "outputs": [
    {
     "name": "stderr",
     "output_type": "stream",
     "text": [
      "                                                                                "
     ]
    },
    {
     "name": "stdout",
     "output_type": "stream",
     "text": [
      "+--------------------+-------------------+--------------+--------------------+\n",
      "|            event_id|                 ts|            ip|                 url|\n",
      "+--------------------+-------------------+--------------+--------------------+\n",
      "|228b0264-a138-40a...|2017-09-01 06:00:01|  206.56.112.1|/department/fan%2...|\n",
      "|f8f5edf2-f39b-4c3...|2017-09-01 06:00:11|  37.97.182.65|/department/fitne...|\n",
      "|5695a198-be9d-410...|2017-09-01 06:00:11|  206.56.112.1|/department/footw...|\n",
      "|f5d17cfd-cf14-4fc...|2017-09-01 06:00:39| 215.143.180.0|/department/appar...|\n",
      "|117711b3-ddec-4aa...|2017-09-01 06:01:37|136.108.56.242|/department/fan%2...|\n",
      "+--------------------+-------------------+--------------+--------------------+\n",
      "only showing top 5 rows\n",
      "\n",
      "root\n",
      " |-- event_id: string (nullable = true)\n",
      " |-- ts: timestamp (nullable = true)\n",
      " |-- ip: string (nullable = true)\n",
      " |-- url: string (nullable = true)\n",
      "\n"
     ]
    }
   ],
   "source": [
    "df = spark.read.option(\"header\", \"true\") \\\n",
    "    .option(\"inferSchema\", \"true\") \\\n",
    "    .csv(\"/src/data/logs_2017.csv\")\n",
    "\n",
    "df.show(5)  # Hiển thị 5 dòng đầu\n",
    "df.printSchema()  # Xem schema của DataFrame\n"
   ]
  },
  {
   "cell_type": "code",
   "execution_count": 5,
   "id": "08febd62-2c9a-4879-b049-6cfd77de25b3",
   "metadata": {},
   "outputs": [
    {
     "name": "stderr",
     "output_type": "stream",
     "text": [
      "25/03/19 15:32:34 WARN AbstractS3ACommitterFactory: Using standard FileOutputCommitter to commit work. This is slow and potentially unsafe.\n",
      "25/03/19 15:32:34 WARN AbstractS3ACommitterFactory: Using standard FileOutputCommitter to commit work. This is slow and potentially unsafe.\n",
      "                                                                                "
     ]
    }
   ],
   "source": [
    "# coalesce(1) -> ghi vô 1 file csv\n",
    "\n",
    "df.coalesce(1).write.format(\"csv\") \\\n",
    "    .option(\"header\", True) \\\n",
    "    .mode(\"overwrite\") \\\n",
    "    .save(\"s3a://datalake/raw/2017\")\n"
   ]
  },
  {
   "cell_type": "code",
   "execution_count": null,
   "id": "634e0923-726a-4fa1-b6d2-600c0e951383",
   "metadata": {},
   "outputs": [],
   "source": []
  }
 ],
 "metadata": {
  "kernelspec": {
   "display_name": "Python 3 (ipykernel)",
   "language": "python",
   "name": "python3"
  },
  "language_info": {
   "codemirror_mode": {
    "name": "ipython",
    "version": 3
   },
   "file_extension": ".py",
   "mimetype": "text/x-python",
   "name": "python",
   "nbconvert_exporter": "python",
   "pygments_lexer": "ipython3",
   "version": "3.9.21"
  }
 },
 "nbformat": 4,
 "nbformat_minor": 5
}
