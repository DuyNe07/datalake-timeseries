{
 "cells": [
  {
   "cell_type": "code",
   "execution_count": 12,
   "metadata": {},
   "outputs": [],
   "source": [
    "import os\n",
    "import re\n",
    "from functools import reduce\n",
    "from pyspark.sql import SparkSession, DataFrame\n",
    "from pyspark.sql.functions import col, regexp_replace, year, avg, to_timestamp"
   ]
  },
  {
   "cell_type": "code",
   "execution_count": 2,
   "metadata": {},
   "outputs": [
    {
     "name": "stderr",
     "output_type": "stream",
     "text": [
      "25/03/25 16:56:51 WARN SparkSession: Using an existing Spark session; only runtime SQL configurations will take effect.\n"
     ]
    },
    {
     "data": {
      "text/plain": [
       "DataFrame[]"
      ]
     },
     "execution_count": 2,
     "metadata": {},
     "output_type": "execute_result"
    }
   ],
   "source": [
    "spark = SparkSession.builder.appName(\"Bronze_to_Silver\").getOrCreate()\n",
    "spark.sql(\"CREATE NAMESPACE IF NOT EXISTS datalake.silver\")"
   ]
  },
  {
   "cell_type": "code",
   "execution_count": 4,
   "metadata": {},
   "outputs": [
    {
     "name": "stderr",
     "output_type": "stream",
     "text": [
      "                                                                                \r"
     ]
    },
    {
     "name": "stdout",
     "output_type": "stream",
     "text": [
      "+---+----+-----+-----+-----+-----+\n",
      "| ID|Date|Price| Open| High|  Low|\n",
      "+---+----+-----+-----+-----+-----+\n",
      "|  1|NULL|332.5|333.0|333.4|332.3|\n",
      "|  2|NULL|329.6|329.1|329.7|328.3|\n",
      "|  3|NULL|332.8|334.1|334.3|332.0|\n",
      "|  4|NULL|445.3|446.8|449.0|443.6|\n",
      "|  5|NULL|449.2|448.5|450.5|448.0|\n",
      "|  6|NULL|413.3|415.0|416.2|412.8|\n",
      "|  7|NULL|396.3|399.7|400.8|394.6|\n",
      "|  8|NULL|405.5|401.0|407.3|400.0|\n",
      "|  9|NULL|336.1|333.5|336.5|333.0|\n",
      "| 10|NULL|362.0|366.0|367.5|360.5|\n",
      "+---+----+-----+-----+-----+-----+\n",
      "only showing top 10 rows\n",
      "\n"
     ]
    }
   ],
   "source": [
    "df_gold_silver = spark.read.format(\"iceberg\").table(\"datalake.silver.gold\")\n",
    "df_gold_silver.show(10)"
   ]
  },
  {
   "cell_type": "code",
   "execution_count": 5,
   "metadata": {},
   "outputs": [
    {
     "name": "stdout",
     "output_type": "stream",
     "text": [
      "+----------+-----+-----+-----+-----+------+------+\n",
      "|      Date|Price| Open| High|  Low|   Vol|Change|\n",
      "+----------+-----+-----+-----+-----+------+------+\n",
      "|12/30/1993|391.9|393.3|393.9|391.0|29.64K| 0.03%|\n",
      "|12/29/1993|391.8|386.6|392.5|384.8|18.71K| 0.85%|\n",
      "|12/28/1993|388.5|389.7|390.0|387.9|39.20K|-0.15%|\n",
      "|12/27/1993|389.1|388.1|389.4|387.7| 8.38K| 0.54%|\n",
      "|12/23/1993|387.0|387.0|387.3|385.6| 6.91K|-0.05%|\n",
      "|12/22/1993|387.2|387.3|388.2|386.0| 8.37K|-0.54%|\n",
      "|12/21/1993|389.3|390.4|390.5|388.5|15.93K|-0.38%|\n",
      "|12/20/1993|390.8|391.1|392.2|390.6|13.58K| 0.49%|\n",
      "|12/17/1993|388.9|387.3|389.1|386.8|16.35K| 0.36%|\n",
      "|12/16/1993|387.5|388.3|389.6|386.5|19.51K|-0.39%|\n",
      "+----------+-----+-----+-----+-----+------+------+\n",
      "only showing top 10 rows\n",
      "\n"
     ]
    }
   ],
   "source": [
    "df_gold_bronze = spark.read.format(\"iceberg\").table(\"datalake.bronze.gold\")\n",
    "df_gold_bronze.show(10)"
   ]
  },
  {
   "cell_type": "code",
   "execution_count": 10,
   "metadata": {},
   "outputs": [
    {
     "data": {
      "text/plain": [
       "StringType()"
      ]
     },
     "execution_count": 10,
     "metadata": {},
     "output_type": "execute_result"
    }
   ],
   "source": [
    "df_gold_bronze.schema[\"Date\"].dataType"
   ]
  },
  {
   "cell_type": "code",
   "execution_count": 13,
   "metadata": {},
   "outputs": [
    {
     "data": {
      "text/plain": [
       "TimestampType()"
      ]
     },
     "execution_count": 13,
     "metadata": {},
     "output_type": "execute_result"
    }
   ],
   "source": [
    "df_gold_bronze = df_gold_bronze.withColumn(\"Date\", to_timestamp(col(\"Date\")))\n",
    "df_gold_bronze.schema[\"Date\"].dataType"
   ]
  },
  {
   "cell_type": "code",
   "execution_count": null,
   "metadata": {},
   "outputs": [],
   "source": [
    "print(\"Bronze table Date column type:\", df_gold_bronze.schema[\"Date\"].dataType)\n",
    "print(\"Silver table Date column type:\", df_gold_silver.schema[\"Date\"].dataType)"
   ]
  },
  {
   "cell_type": "code",
   "execution_count": 16,
   "metadata": {},
   "outputs": [
    {
     "data": {
      "text/plain": [
       "StructField('Date', TimestampType(), True)"
      ]
     },
     "execution_count": 16,
     "metadata": {},
     "output_type": "execute_result"
    }
   ],
   "source": [
    "df_gold_bronze.schema[\"Date\"]"
   ]
  },
  {
   "cell_type": "code",
   "execution_count": null,
   "metadata": {},
   "outputs": [],
   "source": []
  },
  {
   "cell_type": "code",
   "execution_count": null,
   "metadata": {},
   "outputs": [],
   "source": []
  }
 ],
 "metadata": {
  "kernelspec": {
   "display_name": "Python 3 (ipykernel)",
   "language": "python",
   "name": "python3"
  },
  "language_info": {
   "codemirror_mode": {
    "name": "ipython",
    "version": 3
   },
   "file_extension": ".py",
   "mimetype": "text/x-python",
   "name": "python",
   "nbconvert_exporter": "python",
   "pygments_lexer": "ipython3",
   "version": "3.9.21"
  }
 },
 "nbformat": 4,
 "nbformat_minor": 4
}
