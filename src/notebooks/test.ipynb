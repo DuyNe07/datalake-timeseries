{
 "cells": [
  {
   "cell_type": "code",
   "execution_count": 26,
   "id": "f1871ff5-d7c0-4fe8-9bbc-ed352f15ebcc",
   "metadata": {},
   "outputs": [],
   "source": [
    "from datetime import datetime\n",
    "from typing import List, Optional, Tuple\n",
    "\n",
    "from pyspark.sql.types import StructType, StructField, StringType, IntegerType\n",
    "import pandas as pd\n",
    "from pyspark.sql import SparkSession, DataFrame # type: ignore\n",
    "from pyspark.sql.functions import col, to_timestamp, year, month, col, count, when, lit # type: ignore\n",
    "from functools import reduce\n",
    "\n",
    "SOURCE_CATALOG = \"datalake\"\n",
    "SOURCE_NAMESPACE = f\"{SOURCE_CATALOG}.gold\""
   ]
  },
  {
   "cell_type": "code",
   "execution_count": 3,
   "id": "976ac2e6-6c66-4a0e-b803-b22c3223ee59",
   "metadata": {},
   "outputs": [
    {
     "data": {
      "text/plain": [
       "DataFrame[]"
      ]
     },
     "execution_count": 3,
     "metadata": {},
     "output_type": "execute_result"
    }
   ],
   "source": [
    "spark = (\n",
    "        SparkSession.builder.appName(\"Test_read\")\n",
    "        .enableHiveSupport()\n",
    "        .config(\"spark.sql.parquet.datetimeRebaseModeInWrite\", \"CORRECTED\")\n",
    "        .config(\"spark.sql.avro.datetimeRebaseModeInWrite\", \"CORRECTED\")\n",
    "        .getOrCreate()\n",
    "    )\n",
    "spark.sql(f\"CREATE NAMESPACE IF NOT EXISTS {SOURCE_NAMESPACE}\")"
   ]
  },
  {
   "cell_type": "code",
   "execution_count": 4,
   "id": "0ae088fd-1e0c-4bb6-aa37-b0d81c0ae527",
   "metadata": {},
   "outputs": [
    {
     "name": "stdout",
     "output_type": "stream",
     "text": [
      "Tables loaded successfully\n"
     ]
    }
   ],
   "source": [
    "try:\n",
    "    silver_indices = spark.table(\"datalake.gold.indices\")\n",
    "    silver_macro = spark.table(\"datalake.gold.macro\")\n",
    "    silver_usbonds = spark.table(\"datalake.gold.USbonds\")\n",
    "    \n",
    "    print(\"Tables loaded successfully\")\n",
    "except Exception as e:\n",
    "    print(f\"Error loading silver tables: {e}\")"
   ]
  },
  {
   "cell_type": "code",
   "execution_count": 8,
   "id": "89d8c172",
   "metadata": {
    "scrolled": true
   },
   "outputs": [
    {
     "name": "stdout",
     "output_type": "stream",
     "text": [
      "indices schema:\n",
      "root\n",
      " |-- date: date (nullable = true)\n",
      " |-- russell2000: float (nullable = true)\n",
      " |-- dow_jones: float (nullable = true)\n",
      " |-- msci_world: float (nullable = true)\n",
      " |-- nasdaq100: float (nullable = true)\n",
      " |-- s_p500: float (nullable = true)\n",
      " |-- gold: float (nullable = true)\n",
      " |-- year: integer (nullable = true)\n",
      " |-- month: integer (nullable = true)\n",
      "\n",
      "11022\n",
      "+----------+-----------+---------+----------+---------+------+-----+----+-----+\n",
      "|      date|russell2000|dow_jones|msci_world|nasdaq100|s_p500| gold|year|month|\n",
      "+----------+-----------+---------+----------+---------+------+-----+----+-----+\n",
      "|2002-10-01|     368.09|  7938.79|     755.4|   870.63| 994.8|994.4|2002|   10|\n",
      "|2002-10-02|     360.22|  7755.61|     750.8|   849.55| 994.8|994.4|2002|   10|\n",
      "|2002-10-03|     356.85|  7717.19|     742.3|   833.21| 994.8|994.4|2002|   10|\n",
      "|2002-10-04|     347.98|   7528.4|     727.0|    815.4| 994.8|994.4|2002|   10|\n",
      "|2002-10-05|     347.98|   7528.4|     727.0|    815.4| 994.8|994.4|2002|   10|\n",
      "+----------+-----------+---------+----------+---------+------+-----+----+-----+\n",
      "only showing top 5 rows\n",
      "\n",
      "macro schema:\n",
      "root\n",
      " |-- date: date (nullable = true)\n",
      " |-- gold: float (nullable = true)\n",
      " |-- oil: float (nullable = true)\n",
      " |-- us_dollar: float (nullable = true)\n",
      " |-- usd_vnd: float (nullable = true)\n",
      " |-- cpi: double (nullable = true)\n",
      " |-- inflation_rate: double (nullable = true)\n",
      " |-- interest_rate: double (nullable = true)\n",
      " |-- year: integer (nullable = true)\n",
      " |-- month: integer (nullable = true)\n",
      "\n",
      "11024\n",
      "+----------+-----+-----+---------+-------+-----+--------------+-------------+----+-----+\n",
      "|      date| gold|  oil|us_dollar|usd_vnd|  cpi|inflation_rate|interest_rate|year|month|\n",
      "+----------+-----+-----+---------+-------+-----+--------------+-------------+----+-----+\n",
      "|2002-10-01|994.4|30.83|   107.48|15341.0|181.2|           0.2|         1.75|2002|   10|\n",
      "|2002-10-02|994.4|30.49|   107.54|15336.0|181.2|           0.2|         1.75|2002|   10|\n",
      "|2002-10-03|994.4|29.76|   107.36|15343.0|181.2|           0.2|         1.75|2002|   10|\n",
      "|2002-10-04|994.4|29.62|   108.02|15340.0|181.2|           0.2|         1.75|2002|   10|\n",
      "|2002-10-05|994.4|29.62|   108.02|15340.0|181.2|           0.2|         1.75|2002|   10|\n",
      "+----------+-----+-----+---------+-------+-----+--------------+-------------+----+-----+\n",
      "only showing top 5 rows\n",
      "\n",
      "USbonds schema:\n",
      "root\n",
      " |-- date: date (nullable = true)\n",
      " |-- gold: float (nullable = true)\n",
      " |-- us_2_year_bond: float (nullable = true)\n",
      " |-- us_3_month_bond: float (nullable = true)\n",
      " |-- us_5_year_bond: float (nullable = true)\n",
      " |-- us_10_year_bond: float (nullable = true)\n",
      " |-- year: integer (nullable = true)\n",
      " |-- month: integer (nullable = true)\n",
      "\n",
      "11023\n",
      "+----------+-----+--------------+---------------+--------------+---------------+----+-----+\n",
      "|      date| gold|us_2_year_bond|us_3_month_bond|us_5_year_bond|us_10_year_bond|year|month|\n",
      "+----------+-----+--------------+---------------+--------------+---------------+----+-----+\n",
      "|2002-10-01|994.4|         1.827|          1.592|         2.725|          3.717|2002|   10|\n",
      "|2002-10-02|994.4|         1.719|          1.572|         2.678|          3.671|2002|   10|\n",
      "|2002-10-03|994.4|         1.795|          1.572|         2.688|          3.688|2002|   10|\n",
      "|2002-10-04|994.4|         1.786|          1.618|          2.69|          3.669|2002|   10|\n",
      "|2002-10-05|994.4|         1.786|          1.618|          2.69|          3.669|2002|   10|\n",
      "+----------+-----+--------------+---------------+--------------+---------------+----+-----+\n",
      "only showing top 5 rows\n",
      "\n"
     ]
    }
   ],
   "source": [
    "# Display table schemas and sample data\n",
    "print(\"indices schema:\")\n",
    "silver_indices.printSchema()\n",
    "print(silver_indices.count())\n",
    "silver_indices.show(5)\n",
    "\n",
    "print(\"macro schema:\")\n",
    "silver_macro.printSchema()\n",
    "print(silver_macro.count())\n",
    "silver_macro.show(5)\n",
    "\n",
    "print(\"USbonds schema:\")\n",
    "silver_usbonds.printSchema()\n",
    "print(silver_usbonds.count())\n",
    "silver_usbonds.show(5)"
   ]
  },
  {
   "cell_type": "code",
   "execution_count": 15,
   "id": "d9d1423c-bcfe-4f47-bb37-f248b81bd730",
   "metadata": {},
   "outputs": [
    {
     "data": {
      "text/plain": [
       "['date',\n",
       " 'russell2000',\n",
       " 'dow_jones',\n",
       " 'msci_world',\n",
       " 'nasdaq100',\n",
       " 's_p500',\n",
       " 'gold',\n",
       " 'year',\n",
       " 'month']"
      ]
     },
     "execution_count": 15,
     "metadata": {},
     "output_type": "execute_result"
    }
   ],
   "source": [
    "silver_indices.columns"
   ]
  },
  {
   "cell_type": "code",
   "execution_count": 27,
   "id": "74c0b6ed-27d9-4c2c-a177-cd1a1962d498",
   "metadata": {},
   "outputs": [
    {
     "name": "stdout",
     "output_type": "stream",
     "text": [
      "Các cột có giá trị null: []\n"
     ]
    },
    {
     "name": "stderr",
     "output_type": "stream",
     "text": [
      "                                                                                "
     ]
    },
    {
     "name": "stdout",
     "output_type": "stream",
     "text": [
      "+-----------+----------+\n",
      "|column_name|null_count|\n",
      "+-----------+----------+\n",
      "+-----------+----------+\n",
      "\n"
     ]
    }
   ],
   "source": [
    "list_col_null = []\n",
    "null_counts_data = []\n",
    "\n",
    "for col in silver_indices.columns:\n",
    "    null_count = silver_indices.filter(silver_indices[col].isNull()).count()\n",
    "    if null_count > 0:\n",
    "        list_col_null.append(col)\n",
    "        null_counts_data.append((col, null_count))\n",
    "\n",
    "from pyspark.sql.types import StructType, StructField, StringType, IntegerType\n",
    "\n",
    "schema = StructType([\n",
    "    StructField(\"column_name\", StringType(), False),\n",
    "    StructField(\"null_count\", IntegerType(), False)\n",
    "])\n",
    "\n",
    "null_df = spark.createDataFrame(null_counts_data, schema)\n",
    "\n",
    "print(\"Các cột có giá trị null:\", list_col_null)\n",
    "null_df.show()"
   ]
  },
  {
   "cell_type": "code",
   "execution_count": 28,
   "id": "ba87c155-8167-4867-b77c-97dbe16a60cd",
   "metadata": {},
   "outputs": [
    {
     "name": "stdout",
     "output_type": "stream",
     "text": [
      "Các cột có giá trị null: ['gold', 'oil', 'us_dollar', 'usd_vnd']\n",
      "+-----------+----------+\n",
      "|column_name|null_count|\n",
      "+-----------+----------+\n",
      "|       gold|         2|\n",
      "|        oil|         2|\n",
      "|  us_dollar|         2|\n",
      "|    usd_vnd|         1|\n",
      "+-----------+----------+\n",
      "\n"
     ]
    }
   ],
   "source": [
    "list_col_null = []\n",
    "null_counts_data = []\n",
    "\n",
    "for col in silver_macro.columns:\n",
    "    null_count = silver_macro.filter(silver_macro[col].isNull()).count()\n",
    "    if null_count > 0:\n",
    "        list_col_null.append(col)\n",
    "        null_counts_data.append((col, null_count))\n",
    "\n",
    "from pyspark.sql.types import StructType, StructField, StringType, IntegerType\n",
    "\n",
    "schema = StructType([\n",
    "    StructField(\"column_name\", StringType(), False),\n",
    "    StructField(\"null_count\", IntegerType(), False)\n",
    "])\n",
    "\n",
    "null_df = spark.createDataFrame(null_counts_data, schema)\n",
    "\n",
    "print(\"Các cột có giá trị null:\", list_col_null)\n",
    "null_df.show()"
   ]
  },
  {
   "cell_type": "code",
   "execution_count": 29,
   "id": "e23ad30d-db90-476b-bde0-285e66e3f2bf",
   "metadata": {},
   "outputs": [
    {
     "name": "stdout",
     "output_type": "stream",
     "text": [
      "Các cột có giá trị null: ['gold', 'us_2_year_bond', 'us_5_year_bond']\n",
      "+--------------+----------+\n",
      "|   column_name|null_count|\n",
      "+--------------+----------+\n",
      "|          gold|         1|\n",
      "|us_2_year_bond|         1|\n",
      "|us_5_year_bond|         1|\n",
      "+--------------+----------+\n",
      "\n"
     ]
    }
   ],
   "source": [
    "list_col_null = []\n",
    "null_counts_data = []\n",
    "\n",
    "for col in silver_usbonds.columns:\n",
    "    null_count = silver_usbonds.filter(silver_usbonds[col].isNull()).count()\n",
    "    if null_count > 0:\n",
    "        list_col_null.append(col)\n",
    "        null_counts_data.append((col, null_count))\n",
    "\n",
    "from pyspark.sql.types import StructType, StructField, StringType, IntegerType\n",
    "\n",
    "schema = StructType([\n",
    "    StructField(\"column_name\", StringType(), False),\n",
    "    StructField(\"null_count\", IntegerType(), False)\n",
    "])\n",
    "\n",
    "null_df = spark.createDataFrame(null_counts_data, schema)\n",
    "\n",
    "print(\"Các cột có giá trị null:\", list_col_null)\n",
    "null_df.show()"
   ]
  },
  {
   "cell_type": "code",
   "execution_count": 30,
   "id": "820cae27-e8e9-4b9c-b6fe-2bb3c0338496",
   "metadata": {},
   "outputs": [],
   "source": [
    "for col in silver_indices.columns:\n",
    "    null_rows = silver_indices.filter(silver_indices[col].isNull())\n",
    "    if null_rows.count() > 0:\n",
    "        print(f\"\\nDòng có giá trị null trong cột {col}:\")\n",
    "        null_rows.show(truncate=False)"
   ]
  },
  {
   "cell_type": "code",
   "execution_count": 31,
   "id": "404e7982-1783-4afc-a144-8a21c9b0191f",
   "metadata": {},
   "outputs": [
    {
     "name": "stdout",
     "output_type": "stream",
     "text": [
      "\n",
      "Dòng có giá trị null trong cột gold:\n",
      "+----------+----+----+---------+-------+-----+--------------+-------------+----+-----+\n",
      "|date      |gold|oil |us_dollar|usd_vnd|cpi  |inflation_rate|interest_rate|year|month|\n",
      "+----------+----+----+---------+-------+-----+--------------+-------------+----+-----+\n",
      "|1995-01-01|NULL|NULL|NULL     |NULL   |150.5|0.3           |5.53         |1995|1    |\n",
      "|1995-01-02|NULL|NULL|NULL     |11042.0|150.5|0.3           |5.53         |1995|1    |\n",
      "+----------+----+----+---------+-------+-----+--------------+-------------+----+-----+\n",
      "\n",
      "\n",
      "Dòng có giá trị null trong cột oil:\n",
      "+----------+----+----+---------+-------+-----+--------------+-------------+----+-----+\n",
      "|date      |gold|oil |us_dollar|usd_vnd|cpi  |inflation_rate|interest_rate|year|month|\n",
      "+----------+----+----+---------+-------+-----+--------------+-------------+----+-----+\n",
      "|1995-01-01|NULL|NULL|NULL     |NULL   |150.5|0.3           |5.53         |1995|1    |\n",
      "|1995-01-02|NULL|NULL|NULL     |11042.0|150.5|0.3           |5.53         |1995|1    |\n",
      "+----------+----+----+---------+-------+-----+--------------+-------------+----+-----+\n",
      "\n",
      "\n",
      "Dòng có giá trị null trong cột us_dollar:\n",
      "+----------+----+----+---------+-------+-----+--------------+-------------+----+-----+\n",
      "|date      |gold|oil |us_dollar|usd_vnd|cpi  |inflation_rate|interest_rate|year|month|\n",
      "+----------+----+----+---------+-------+-----+--------------+-------------+----+-----+\n",
      "|1995-01-01|NULL|NULL|NULL     |NULL   |150.5|0.3           |5.53         |1995|1    |\n",
      "|1995-01-02|NULL|NULL|NULL     |11042.0|150.5|0.3           |5.53         |1995|1    |\n",
      "+----------+----+----+---------+-------+-----+--------------+-------------+----+-----+\n",
      "\n",
      "\n",
      "Dòng có giá trị null trong cột usd_vnd:\n",
      "+----------+----+----+---------+-------+-----+--------------+-------------+----+-----+\n",
      "|date      |gold|oil |us_dollar|usd_vnd|cpi  |inflation_rate|interest_rate|year|month|\n",
      "+----------+----+----+---------+-------+-----+--------------+-------------+----+-----+\n",
      "|1995-01-01|NULL|NULL|NULL     |NULL   |150.5|0.3           |5.53         |1995|1    |\n",
      "+----------+----+----+---------+-------+-----+--------------+-------------+----+-----+\n",
      "\n"
     ]
    }
   ],
   "source": [
    "for col in silver_macro.columns:\n",
    "    null_rows = silver_macro.filter(silver_macro[col].isNull())\n",
    "    if null_rows.count() > 0:\n",
    "        print(f\"\\nDòng có giá trị null trong cột {col}:\")\n",
    "        null_rows.show(truncate=False)"
   ]
  },
  {
   "cell_type": "code",
   "execution_count": 9,
   "id": "c09b1652-8534-4631-9c19-a1704512a845",
   "metadata": {},
   "outputs": [],
   "source": [
    "spark.stop()"
   ]
  },
  {
   "cell_type": "code",
   "execution_count": null,
   "id": "cc42d805-be78-4447-8293-abb046ca9409",
   "metadata": {},
   "outputs": [],
   "source": []
  }
 ],
 "metadata": {
  "kernelspec": {
   "display_name": "Python 3 (ipykernel)",
   "language": "python",
   "name": "python3"
  },
  "language_info": {
   "codemirror_mode": {
    "name": "ipython",
    "version": 3
   },
   "file_extension": ".py",
   "mimetype": "text/x-python",
   "name": "python",
   "nbconvert_exporter": "python",
   "pygments_lexer": "ipython3",
   "version": "3.9.22"
  }
 },
 "nbformat": 4,
 "nbformat_minor": 5
}
