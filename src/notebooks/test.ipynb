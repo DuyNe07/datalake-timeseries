{
 "cells": [
  {
   "cell_type": "code",
   "execution_count": 1,
   "id": "f1871ff5-d7c0-4fe8-9bbc-ed352f15ebcc",
   "metadata": {},
   "outputs": [],
   "source": [
    "from pyspark.sql import SparkSession\n",
    "from pyspark.sql.window import Window\n",
    "from pyspark.sql.functions import row_number"
   ]
  },
  {
   "cell_type": "code",
   "execution_count": 2,
   "id": "976ac2e6-6c66-4a0e-b803-b22c3223ee59",
   "metadata": {},
   "outputs": [
    {
     "name": "stderr",
     "output_type": "stream",
     "text": [
      "25/03/23 12:27:31 WARN SparkSession: Using an existing Spark session; only runtime SQL configurations will take effect.\n"
     ]
    }
   ],
   "source": [
    "spark = SparkSession.builder \\\n",
    "    .appName(\"TestReadBronze\") \\\n",
    "    .getOrCreate()"
   ]
  },
  {
   "cell_type": "code",
   "execution_count": 3,
   "id": "0ae088fd-1e0c-4bb6-aa37-b0d81c0ae527",
   "metadata": {},
   "outputs": [
    {
     "name": "stderr",
     "output_type": "stream",
     "text": [
      "                                                                                "
     ]
    },
    {
     "name": "stdout",
     "output_type": "stream",
     "text": [
      "+----------+-----+-----+-----+-----+-------+--------+\n",
      "|      Date|Price| Open| High|  Low|   Vol.|Change %|\n",
      "+----------+-----+-----+-----+-----+-------+--------+\n",
      "|11/28/2013|92.28|92.19|92.36|92.08|   NULL|  -0.03%|\n",
      "|11/27/2013| 92.3| 93.5| 93.6|91.77|230.88K|  -1.47%|\n",
      "|11/26/2013|93.68|94.21|94.69|93.43|160.18K|  -0.44%|\n",
      "|11/25/2013|94.09|94.15| 94.5|93.08|270.86K|  -0.79%|\n",
      "|11/22/2013|94.84|95.29|95.57|94.05|257.84K|  -0.63%|\n",
      "+----------+-----+-----+-----+-----+-------+--------+\n",
      "only showing top 5 rows\n",
      "\n",
      "root\n",
      " |-- Date: string (nullable = true)\n",
      " |-- Price: double (nullable = true)\n",
      " |-- Open: double (nullable = true)\n",
      " |-- High: double (nullable = true)\n",
      " |-- Low: double (nullable = true)\n",
      " |-- Vol.: string (nullable = true)\n",
      " |-- Change %: string (nullable = true)\n",
      "\n"
     ]
    }
   ],
   "source": [
    "df = spark.read.option(\"header\", \"true\") \\\n",
    "    .option(\"inferSchema\", \"true\") \\\n",
    "    .csv(\"/src/data/Oil\")\n",
    "\n",
    "df.show(5)  # Hiển thị 5 dòng đầu\n",
    "df.printSchema()  # Xem schema của DataFrame"
   ]
  },
  {
   "cell_type": "code",
   "execution_count": 4,
   "id": "b52130fc",
   "metadata": {
    "vscode": {
     "languageId": "julia"
    }
   },
   "outputs": [
    {
     "name": "stderr",
     "output_type": "stream",
     "text": [
      "25/03/23 12:27:53 WARN WindowExec: No Partition Defined for Window operation! Moving all data to a single partition, this can cause serious performance degradation.\n",
      "25/03/23 12:27:53 WARN WindowExec: No Partition Defined for Window operation! Moving all data to a single partition, this can cause serious performance degradation.\n",
      "25/03/23 12:27:53 WARN WindowExec: No Partition Defined for Window operation! Moving all data to a single partition, this can cause serious performance degradation.\n"
     ]
    },
    {
     "name": "stdout",
     "output_type": "stream",
     "text": [
      "+-----+----------+-----+-----+-----+-----+\n",
      "|index|      Date|Price| Open| High|  Low|\n",
      "+-----+----------+-----+-----+-----+-----+\n",
      "|    1|01/01/2014| 98.7|98.61|98.76|98.54|\n",
      "|    2|01/01/2015|54.56|53.73|54.85|53.72|\n",
      "|    3|01/01/2018|60.24|60.26|60.28|60.15|\n",
      "|    4|01/01/2019|45.89|45.77|45.95|45.73|\n",
      "|    5|01/01/2020|61.33|61.52|61.54|61.33|\n",
      "|    6|01/01/2024|71.97|71.67|72.24|71.67|\n",
      "|    7|01/02/1985|25.92|26.15| 26.2|25.86|\n",
      "|    8|01/02/1986|25.56|25.85|25.96| 25.2|\n",
      "|    9|01/02/1987|18.13|17.92|18.19| 17.9|\n",
      "|   10|01/02/1990|22.89|21.81|22.92|21.79|\n",
      "|   11|01/02/1991|26.49|28.07|28.45|26.35|\n",
      "|   12|01/02/1992|19.49| 19.1|19.52| 19.1|\n",
      "|   13|01/02/1996|19.81|19.52|19.83|19.41|\n",
      "|   14|01/02/1997|25.69|25.88|26.05| 25.6|\n",
      "|   15|01/02/1998|17.43|17.68|17.68| 17.4|\n",
      "|   16|01/02/2001|27.21| 26.9| 27.4|26.65|\n",
      "|   17|01/02/2002|21.01| 19.9|21.05|19.72|\n",
      "|   18|01/02/2003|31.85| 31.6|32.09| 31.4|\n",
      "|   19|01/02/2007|61.05|61.05|61.05|61.05|\n",
      "|   20|01/02/2008|99.62|96.05|100.0|96.05|\n",
      "+-----+----------+-----+-----+-----+-----+\n",
      "only showing top 20 rows\n",
      "\n"
     ]
    }
   ],
   "source": [
    "# Select only the desired columns (dropping \"Vol.\" and \"Change %\")\n",
    "df_selected = df.select(\"Date\", \"Price\", \"Open\", \"High\", \"Low\")\n",
    "\n",
    "# Create a window spec; here ordering by \"Date\", can be adjusted as needed\n",
    "window_spec = Window.orderBy(\"Date\")\n",
    "df_with_index = df_selected.withColumn(\"index\", row_number().over(window_spec))\n",
    "\n",
    "# Reorder columns to get \"index\", \"Date\", \"Price\", \"Open\", \"High\", \"Low\"\n",
    "df_with_index = df_with_index.select(\"index\", \"Date\", \"Price\", \"Open\", \"High\", \"Low\")\n",
    "df_with_index.show()"
   ]
  },
  {
   "cell_type": "code",
   "execution_count": null,
   "id": "89d8c172",
   "metadata": {},
   "outputs": [],
   "source": [
    "# Write the DataFrame to a Silver table\n",
    "df_with_index.write \\\n",
    "    .mode(\"overwrite\") \\\n",
    "    .format(\"parquet\") \\\n",
    "    .save(\"/src/data/Silver/Oil\")"
   ]
  }
 ],
 "metadata": {
  "kernelspec": {
   "display_name": "Python 3 (ipykernel)",
   "language": "python",
   "name": "python3"
  },
  "language_info": {
   "codemirror_mode": {
    "name": "ipython",
    "version": 3
   },
   "file_extension": ".py",
   "mimetype": "text/x-python",
   "name": "python",
   "nbconvert_exporter": "python",
   "pygments_lexer": "ipython3",
   "version": "3.9.21"
  }
 },
 "nbformat": 4,
 "nbformat_minor": 5
}
